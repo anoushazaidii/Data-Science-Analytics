{
  "cells": [
    {
      "cell_type": "markdown",
      "metadata": {
        "id": "view-in-github",
        "colab_type": "text"
      },
      "source": [
        "<a href=\"https://colab.research.google.com/github/anoushazaidii/Data-Science-Analytics/blob/main/NumPy.ipynb\" target=\"_parent\"><img src=\"https://colab.research.google.com/assets/colab-badge.svg\" alt=\"Open In Colab\"/></a>"
      ]
    },
    {
      "cell_type": "code",
      "execution_count": null,
      "metadata": {
        "colab": {
          "base_uri": "https://localhost:8080/"
        },
        "id": "xpKohpVwdoin",
        "outputId": "d40e2a3d-1171-4213-87ea-a8f97af4634e"
      },
      "outputs": [
        {
          "name": "stdout",
          "output_type": "stream",
          "text": [
            "x =  [1 2 3 4 5]\n"
          ]
        }
      ],
      "source": [
        "# We import NumPy into Python\n",
        "import numpy as np\n",
        "\n",
        "# We create a 1D ndarray that contains only integers\n",
        "x = np.array([1, 2, 3, 4, 5])\n",
        "\n",
        "# Let's print the ndarray we just created using the print() command\n",
        "print('x = ', x)"
      ]
    },
    {
      "cell_type": "code",
      "execution_count": null,
      "metadata": {
        "colab": {
          "base_uri": "https://localhost:8080/"
        },
        "id": "0oXbMtafd8tK",
        "outputId": "b60e4f42-3631-4eee-bd62-1c0111048115"
      },
      "outputs": [
        {
          "name": "stdout",
          "output_type": "stream",
          "text": [
            "\n",
            "x =  [1 2 3 4 5]\n",
            "\n",
            "x has dimensions: (5,)\n",
            "x is an object of type: <class 'numpy.ndarray'>\n",
            "The elements in x are of type: int64\n"
          ]
        }
      ],
      "source": [
        "# We create a 1D ndarray that contains only integers\n",
        "x = np.array([1, 2, 3, 4, 5])\n",
        "\n",
        "# We print x\n",
        "print()\n",
        "print('x = ', x)\n",
        "print()\n",
        "\n",
        "# We print information about x\n",
        "print('x has dimensions:', x.shape)\n",
        "print('x is an object of type:', type(x))\n",
        "print('The elements in x are of type:', x.dtype)"
      ]
    },
    {
      "cell_type": "code",
      "execution_count": null,
      "metadata": {
        "colab": {
          "base_uri": "https://localhost:8080/"
        },
        "id": "slRCO-1HfHW-",
        "outputId": "c262a91b-11dc-4a7d-e420-f192194599bb"
      },
      "outputs": [
        {
          "name": "stdout",
          "output_type": "stream",
          "text": [
            "\n",
            "x =  ['1' '2' 'World']\n",
            "\n",
            "x has dimensions: (3,)\n",
            "x is an object of type: <class 'numpy.ndarray'>\n",
            "The elements in x are of type: <U21\n"
          ]
        }
      ],
      "source": [
        "# We create a rank 1 ndarray from a Python list that contains integers and strings\n",
        "x = np.array([1, 2, 'World'])\n",
        "\n",
        "# We print the ndarray\n",
        "print()\n",
        "print('x = ', x)\n",
        "print()\n",
        "\n",
        "# We print information about x\n",
        "print('x has dimensions:', x.shape)\n",
        "print('x is an object of type:', type(x))\n",
        "print('The elements in x are of type:', x.dtype)"
      ]
    },
    {
      "cell_type": "code",
      "execution_count": null,
      "metadata": {
        "colab": {
          "base_uri": "https://localhost:8080/"
        },
        "id": "0WAQFW5tg2ib",
        "outputId": "d58b9654-a857-4486-a22f-b6b5df2650b6"
      },
      "outputs": [
        {
          "name": "stdout",
          "output_type": "stream",
          "text": [
            "\n",
            "Y = \n",
            " [[ 1  2  3]\n",
            " [ 4  5  6]\n",
            " [ 7  8  9]\n",
            " [10 11 12]]\n",
            "\n",
            "Y has dimensions: (4, 3)\n",
            "Y has a total of 12 elements\n",
            "Y is an object of type: <class 'numpy.ndarray'>\n",
            "The elements in Y are of type: int64\n"
          ]
        }
      ],
      "source": [
        "# We create a rank 2 ndarray that only contains integers\n",
        "Y = np.array([[1,2,3],[4,5,6],[7,8,9], [10,11,12]])\n",
        "\n",
        "# We print Y\n",
        "print()\n",
        "print('Y = \\n', Y)\n",
        "print()\n",
        "\n",
        "# We print information about Y\n",
        "print('Y has dimensions:', Y.shape)\n",
        "print('Y has a total of', Y.size, 'elements')\n",
        "print('Y is an object of type:', type(Y))\n",
        "print('The elements in Y are of type:', Y.dtype)"
      ]
    },
    {
      "cell_type": "code",
      "execution_count": null,
      "metadata": {
        "colab": {
          "base_uri": "https://localhost:8080/"
        },
        "id": "9aIjZJZVhRLP",
        "outputId": "0d4377e2-2e1d-4726-c86d-a2ef0579c7b5"
      },
      "outputs": [
        {
          "name": "stdout",
          "output_type": "stream",
          "text": [
            "\n",
            "x =  [1 2 3 4 5]\n",
            "\n",
            "The elements in x are of type: int64\n"
          ]
        }
      ],
      "source": [
        "# We create a rank 1 ndarray of floats but set the dtype to int64\n",
        "x = np.array([1.5, 2.2, 3.7, 4.0, 5.9], dtype = np.int64)\n",
        "\n",
        "# We print x\n",
        "print()\n",
        "print('x = ', x)\n",
        "print()\n",
        "\n",
        "# We print the dtype x\n",
        "print('The elements in x are of type:', x.dtype)"
      ]
    },
    {
      "cell_type": "code",
      "execution_count": null,
      "metadata": {
        "id": "sFe7LsjEDq3R"
      },
      "outputs": [],
      "source": [
        "    #Creating NumPy ndarrays\n",
        "#import numpy package\n",
        "import numpy as np\n",
        "uni_list=np.array(['MUET','KU','Fast','NUST'])"
      ]
    },
    {
      "cell_type": "code",
      "execution_count": null,
      "metadata": {
        "colab": {
          "base_uri": "https://localhost:8080/"
        },
        "id": "mzqD9qP7D7rJ",
        "outputId": "bcc4837b-cdb4-438a-ee53-989ef4e4e4a4"
      },
      "outputs": [
        {
          "name": "stdout",
          "output_type": "stream",
          "text": [
            "['MUET' 'KU' 'Fast' 'NUST']\n"
          ]
        }
      ],
      "source": [
        "print(uni_list)"
      ]
    },
    {
      "cell_type": "code",
      "execution_count": null,
      "metadata": {
        "colab": {
          "base_uri": "https://localhost:8080/"
        },
        "id": "cI3_n9c2D9Dg",
        "outputId": "1a331468-da71-4acc-99e6-ffdbf9401914"
      },
      "outputs": [
        {
          "data": {
            "text/plain": [
              "numpy.ndarray"
            ]
          },
          "execution_count": 8,
          "metadata": {},
          "output_type": "execute_result"
        }
      ],
      "source": [
        "type(uni_list)"
      ]
    },
    {
      "cell_type": "code",
      "execution_count": null,
      "metadata": {
        "colab": {
          "base_uri": "https://localhost:8080/"
        },
        "id": "b4G6JmyTEBHh",
        "outputId": "ada47c5f-3130-4955-dbef-417ce146ff52"
      },
      "outputs": [
        {
          "data": {
            "text/plain": [
              "dtype('<U4')"
            ]
          },
          "execution_count": 9,
          "metadata": {},
          "output_type": "execute_result"
        }
      ],
      "source": [
        "#attributes of numpy array\n",
        "#dtype\n",
        "uni_list.dtype"
      ]
    },
    {
      "cell_type": "code",
      "execution_count": null,
      "metadata": {
        "id": "TfGV6gWREHpe"
      },
      "outputs": [],
      "source": [
        "import numpy as np\n",
        "list_students=np.array([1,37,55,61])"
      ]
    },
    {
      "cell_type": "code",
      "execution_count": null,
      "metadata": {
        "colab": {
          "base_uri": "https://localhost:8080/"
        },
        "id": "wYcRZYahEoFI",
        "outputId": "793e4c18-5d10-4d95-d94c-ed994c97d4d5"
      },
      "outputs": [
        {
          "name": "stdout",
          "output_type": "stream",
          "text": [
            "[ 1 37 55 61]\n"
          ]
        }
      ],
      "source": [
        "print(list_students)"
      ]
    },
    {
      "cell_type": "code",
      "execution_count": null,
      "metadata": {
        "colab": {
          "base_uri": "https://localhost:8080/"
        },
        "id": "j74XtSOFEp4J",
        "outputId": "287bf1bc-f3c7-46fe-8dff-2f2be49b3a79"
      },
      "outputs": [
        {
          "data": {
            "text/plain": [
              "numpy.ndarray"
            ]
          },
          "execution_count": 13,
          "metadata": {},
          "output_type": "execute_result"
        }
      ],
      "source": [
        "type(list_students)"
      ]
    },
    {
      "cell_type": "code",
      "execution_count": null,
      "metadata": {
        "colab": {
          "base_uri": "https://localhost:8080/"
        },
        "id": "596BWYHjEsDk",
        "outputId": "05603bf1-b561-434a-f93e-4bbd648da5aa"
      },
      "outputs": [
        {
          "data": {
            "text/plain": [
              "dtype('int64')"
            ]
          },
          "execution_count": 14,
          "metadata": {},
          "output_type": "execute_result"
        }
      ],
      "source": [
        "list_students.dtype"
      ]
    },
    {
      "cell_type": "code",
      "execution_count": null,
      "metadata": {
        "colab": {
          "base_uri": "https://localhost:8080/"
        },
        "id": "u9YhBiCCEu7j",
        "outputId": "92fdd3cf-8fff-4e56-d03a-982d9f964887"
      },
      "outputs": [
        {
          "data": {
            "text/plain": [
              "(4,)"
            ]
          },
          "execution_count": 15,
          "metadata": {},
          "output_type": "execute_result"
        }
      ],
      "source": [
        "list_students.shape"
      ]
    },
    {
      "cell_type": "code",
      "execution_count": null,
      "metadata": {
        "id": "zETjmET3E3gs"
      },
      "outputs": [],
      "source": [
        "#using nested python list let's create a 2D array\n",
        "array_2d=np.array([[1,2,3],[4,5,6],[7,8,9]])"
      ]
    },
    {
      "cell_type": "code",
      "execution_count": null,
      "metadata": {
        "colab": {
          "base_uri": "https://localhost:8080/"
        },
        "id": "AJhDZ8UwFW87",
        "outputId": "404d0c8e-06a6-4814-c82c-e6f219c35b7d"
      },
      "outputs": [
        {
          "name": "stdout",
          "output_type": "stream",
          "text": [
            "[[1 2 3]\n",
            " [4 5 6]\n",
            " [7 8 9]]\n"
          ]
        }
      ],
      "source": [
        "print(array_2d)"
      ]
    },
    {
      "cell_type": "code",
      "execution_count": null,
      "metadata": {
        "colab": {
          "base_uri": "https://localhost:8080/"
        },
        "id": "O3L9lGwSFYJ-",
        "outputId": "67467dfe-bb14-4530-c651-4663b5b4bfac"
      },
      "outputs": [
        {
          "data": {
            "text/plain": [
              "(3, 3)"
            ]
          },
          "execution_count": 18,
          "metadata": {},
          "output_type": "execute_result"
        }
      ],
      "source": [
        "array_2d.shape"
      ]
    },
    {
      "cell_type": "code",
      "execution_count": null,
      "metadata": {
        "colab": {
          "base_uri": "https://localhost:8080/"
        },
        "id": "hNRSMu6SFaA7",
        "outputId": "10b48e9a-33ce-4036-b54f-7a1a5bc8ed4f"
      },
      "outputs": [
        {
          "data": {
            "text/plain": [
              "9"
            ]
          },
          "execution_count": 13,
          "metadata": {},
          "output_type": "execute_result"
        }
      ],
      "source": [
        "array_2d.size"
      ]
    },
    {
      "cell_type": "code",
      "execution_count": null,
      "metadata": {
        "colab": {
          "base_uri": "https://localhost:8080/"
        },
        "id": "II1w6iJQFsdz",
        "outputId": "ae2e5323-cef4-4283-94fa-63beddddd811"
      },
      "outputs": [
        {
          "data": {
            "text/plain": [
              "array([ 1, 37, 55, 61])"
            ]
          },
          "execution_count": 14,
          "metadata": {},
          "output_type": "execute_result"
        }
      ],
      "source": [
        "list_students"
      ]
    },
    {
      "cell_type": "code",
      "execution_count": null,
      "metadata": {
        "colab": {
          "base_uri": "https://localhost:8080/"
        },
        "id": "-SyH0r3xHcTb",
        "outputId": "ee618fec-2ed5-45c8-ba46-3d728155a4da"
      },
      "outputs": [
        {
          "name": "stdout",
          "output_type": "stream",
          "text": [
            "1st element :  1\n",
            "2nd element :  37\n",
            "Last element :  61\n"
          ]
        }
      ],
      "source": [
        "#accessing elements using index numbers\n",
        "print(\"1st element : \",list_students[0])\n",
        "print(\"2nd element : \",list_students[1])\n",
        "print(\"Last element : \",list_students[-1])"
      ]
    },
    {
      "cell_type": "code",
      "execution_count": null,
      "metadata": {
        "id": "oDDl2c1XHg9a"
      },
      "outputs": [],
      "source": [
        "#changing element of 1d array\n",
        "list_students[0]=10\n",
        "#changing elements in rank 2 array (2d array)\n",
        "array_2d[0][1]=100\n",
        "#or\n",
        "#changing elements in rank 2 array (2d array)\n",
        "array_2d[0,1]=100"
      ]
    },
    {
      "cell_type": "code",
      "execution_count": null,
      "metadata": {
        "colab": {
          "base_uri": "https://localhost:8080/"
        },
        "id": "s7do8Z4hIIwC",
        "outputId": "01578b3a-88c0-44a4-c311-1be66d629439"
      },
      "outputs": [
        {
          "name": "stdout",
          "output_type": "stream",
          "text": [
            "[10 37 55 61]\n",
            "\n",
            "\n",
            "[[  1 100   3]\n",
            " [  4   5   6]\n",
            " [  7   8   9]]\n"
          ]
        }
      ],
      "source": [
        "print(list_students)\n",
        "print(\"\\n\")\n",
        "print(array_2d)"
      ]
    },
    {
      "cell_type": "code",
      "execution_count": null,
      "metadata": {
        "colab": {
          "base_uri": "https://localhost:8080/"
        },
        "id": "YOZaTjQaIzD9",
        "outputId": "d5280e4e-950f-4fe2-8ff9-b87f3c851ea8"
      },
      "outputs": [
        {
          "name": "stdout",
          "output_type": "stream",
          "text": [
            "Element at (0,0) :  1\n",
            "Element at (0,1) :  100\n",
            "Element at (0,2) :  3\n"
          ]
        }
      ],
      "source": [
        "print(\"Element at (0,0) : \",array_2d[0,0])\n",
        "print(\"Element at (0,1) : \",array_2d[0,1])\n",
        "print(\"Element at (0,2) : \",array_2d[0,2])"
      ]
    },
    {
      "cell_type": "code",
      "execution_count": null,
      "metadata": {
        "id": "yEcK9nwJIMIX"
      },
      "outputs": [],
      "source": [
        "#deleting an element of an array (rank 1 array)\n",
        "list_students=np.delete(list_students,1)\n",
        "#deleting an element of an array (rank 2 array)\n",
        "array_2d=np.delete(array_2d,1,axis=0)\n",
        "array_2d=np.delete(array_2d,1,axis=1)"
      ]
    },
    {
      "cell_type": "code",
      "execution_count": null,
      "metadata": {
        "id": "HDP5DJdtOjtz"
      },
      "outputs": [],
      "source": [
        "list_students=[1,2,3,55,60,66]"
      ]
    },
    {
      "cell_type": "code",
      "execution_count": null,
      "metadata": {
        "colab": {
          "base_uri": "https://localhost:8080/"
        },
        "id": "_A8beOUCOn2i",
        "outputId": "2e253d2f-266a-4c15-d405-443f7167adb5"
      },
      "outputs": [
        {
          "data": {
            "text/plain": [
              "[1, 2, 3]"
            ]
          },
          "execution_count": 28,
          "metadata": {},
          "output_type": "execute_result"
        }
      ],
      "source": [
        "list_students[:3]"
      ]
    },
    {
      "cell_type": "code",
      "execution_count": null,
      "metadata": {
        "id": "rP66tTpWOrlB"
      },
      "outputs": [],
      "source": [
        "import numpy as np\n",
        "s_list=np.array([1,2,3,4,5,6])"
      ]
    },
    {
      "cell_type": "code",
      "execution_count": null,
      "metadata": {
        "colab": {
          "base_uri": "https://localhost:8080/"
        },
        "id": "1IO0DOrkVCeu",
        "outputId": "561c6176-76a2-4bab-81d2-e9a29d3d2978"
      },
      "outputs": [
        {
          "data": {
            "text/plain": [
              "array([1, 2, 3, 4, 5, 6])"
            ]
          },
          "execution_count": 30,
          "metadata": {},
          "output_type": "execute_result"
        }
      ],
      "source": [
        "s_list"
      ]
    },
    {
      "cell_type": "code",
      "execution_count": null,
      "metadata": {
        "colab": {
          "base_uri": "https://localhost:8080/"
        },
        "id": "OO1QYzupVDZl",
        "outputId": "f51dc437-9364-44fa-a736-2ee314bb0f07"
      },
      "outputs": [
        {
          "data": {
            "text/plain": [
              "numpy.ndarray"
            ]
          },
          "execution_count": 31,
          "metadata": {},
          "output_type": "execute_result"
        }
      ],
      "source": [
        "type(s_list)"
      ]
    },
    {
      "cell_type": "code",
      "execution_count": null,
      "metadata": {
        "colab": {
          "base_uri": "https://localhost:8080/"
        },
        "id": "TEJnJCbeVFuz",
        "outputId": "ad6312ad-2bc1-4f3a-a2b8-3510bab824c3"
      },
      "outputs": [
        {
          "data": {
            "text/plain": [
              "dtype('int64')"
            ]
          },
          "execution_count": 32,
          "metadata": {},
          "output_type": "execute_result"
        }
      ],
      "source": [
        "s_list.dtype"
      ]
    },
    {
      "cell_type": "code",
      "execution_count": null,
      "metadata": {
        "colab": {
          "base_uri": "https://localhost:8080/"
        },
        "id": "N_7B3zgsVL2W",
        "outputId": "46ad6c2d-2e47-4b4b-c738-7261b9d44bca"
      },
      "outputs": [
        {
          "data": {
            "text/plain": [
              "(6,)"
            ]
          },
          "execution_count": 33,
          "metadata": {},
          "output_type": "execute_result"
        }
      ],
      "source": [
        "s_list.shape"
      ]
    },
    {
      "cell_type": "code",
      "execution_count": null,
      "metadata": {
        "id": "Q-v1whrCVOra"
      },
      "outputs": [],
      "source": [
        "array2=np.array([\"hello\", 2,3,4])"
      ]
    },
    {
      "cell_type": "code",
      "execution_count": null,
      "metadata": {
        "colab": {
          "base_uri": "https://localhost:8080/"
        },
        "id": "eZ1fI3ISVUqM",
        "outputId": "d56ff9ff-a07e-4e5a-f116-d908e4ebf3c2"
      },
      "outputs": [
        {
          "data": {
            "text/plain": [
              "numpy.ndarray"
            ]
          },
          "execution_count": 35,
          "metadata": {},
          "output_type": "execute_result"
        }
      ],
      "source": [
        "type(array2)"
      ]
    },
    {
      "cell_type": "code",
      "execution_count": null,
      "metadata": {
        "colab": {
          "base_uri": "https://localhost:8080/"
        },
        "id": "Cmz5aUWXVYbK",
        "outputId": "5e94f0af-60a0-4931-c046-e836f7845c24"
      },
      "outputs": [
        {
          "data": {
            "text/plain": [
              "dtype('<U21')"
            ]
          },
          "execution_count": 36,
          "metadata": {},
          "output_type": "execute_result"
        }
      ],
      "source": [
        "array2.dtype"
      ]
    },
    {
      "cell_type": "code",
      "execution_count": null,
      "metadata": {
        "id": "2ARTU33pVahy"
      },
      "outputs": [],
      "source": [
        "array2=np.array([1,2,3,3.4,5.6], dtype=np.int64)"
      ]
    },
    {
      "cell_type": "code",
      "execution_count": null,
      "metadata": {
        "colab": {
          "base_uri": "https://localhost:8080/"
        },
        "id": "KYHa03EZVyr4",
        "outputId": "48ee4533-c7b9-4061-e5fa-9fe35a287258"
      },
      "outputs": [
        {
          "data": {
            "text/plain": [
              "dtype('int64')"
            ]
          },
          "execution_count": 41,
          "metadata": {},
          "output_type": "execute_result"
        }
      ],
      "source": [
        "array2.dtype"
      ]
    },
    {
      "cell_type": "code",
      "execution_count": null,
      "metadata": {
        "colab": {
          "base_uri": "https://localhost:8080/"
        },
        "id": "FkgByY-cV02V",
        "outputId": "5d3dc117-1620-44d8-ee65-4a955ce0de73"
      },
      "outputs": [
        {
          "data": {
            "text/plain": [
              "array([1, 2, 3, 3, 5])"
            ]
          },
          "execution_count": 42,
          "metadata": {},
          "output_type": "execute_result"
        }
      ],
      "source": [
        "array2"
      ]
    },
    {
      "cell_type": "code",
      "execution_count": null,
      "metadata": {
        "colab": {
          "base_uri": "https://localhost:8080/"
        },
        "id": "K1IvR8tmWAph",
        "outputId": "b792a7e1-8697-4dcc-c196-6ccb8e2e9676"
      },
      "outputs": [
        {
          "name": "stderr",
          "output_type": "stream",
          "text": [
            "<ipython-input-43-9c29a4b4526f>:1: VisibleDeprecationWarning: Creating an ndarray from ragged nested sequences (which is a list-or-tuple of lists-or-tuples-or ndarrays with different lengths or shapes) is deprecated. If you meant to do this, you must specify 'dtype=object' when creating the ndarray.\n",
            "  array2d=np.array([[1,2],[3,4,5]])\n"
          ]
        }
      ],
      "source": [
        "array2d=np.array([[1,2],[3,4,5]])"
      ]
    },
    {
      "cell_type": "code",
      "execution_count": null,
      "metadata": {
        "colab": {
          "base_uri": "https://localhost:8080/"
        },
        "id": "ORIFRSNrWlVv",
        "outputId": "61d16f46-a342-4969-8a7d-94a8c8bed38a"
      },
      "outputs": [
        {
          "data": {
            "text/plain": [
              "(2,)"
            ]
          },
          "execution_count": 45,
          "metadata": {},
          "output_type": "execute_result"
        }
      ],
      "source": [
        "array2d.shape"
      ]
    },
    {
      "cell_type": "markdown",
      "metadata": {
        "id": "Af0mnpZaOt8G"
      },
      "source": [
        "## Built in functions in NumPy library"
      ]
    },
    {
      "cell_type": "code",
      "execution_count": null,
      "metadata": {
        "id": "kltP8BuJO8JD"
      },
      "outputs": [],
      "source": [
        "import numpy as np"
      ]
    },
    {
      "cell_type": "code",
      "execution_count": null,
      "metadata": {
        "colab": {
          "base_uri": "https://localhost:8080/"
        },
        "id": "VTUJqpWNrjGW",
        "outputId": "65f9273a-cbb8-4ce7-e638-b5eb17fb86c8"
      },
      "outputs": [
        {
          "name": "stdout",
          "output_type": "stream",
          "text": [
            "\n",
            "X = \n",
            " [[0. 0. 0. 0.]\n",
            " [0. 0. 0. 0.]\n",
            " [0. 0. 0. 0.]]\n",
            "\n",
            "X has dimensions: (3, 4)\n",
            "X is an object of type: <class 'numpy.ndarray'>\n",
            "The elements in X are of type: float64\n"
          ]
        }
      ],
      "source": [
        "# We create a 3 x 4 ndarray full of zeros.\n",
        "X = np.zeros((3,4))\n",
        "\n",
        "# We print X\n",
        "print()\n",
        "print('X = \\n', X)\n",
        "print()\n",
        "\n",
        "# We print information about X\n",
        "print('X has dimensions:', X.shape)\n",
        "print('X is an object of type:', type(X))\n",
        "print('The elements in X are of type:', X.dtype)"
      ]
    },
    {
      "cell_type": "code",
      "execution_count": null,
      "metadata": {
        "colab": {
          "base_uri": "https://localhost:8080/"
        },
        "id": "sXfeYKhHpRqp",
        "outputId": "e8027a08-0d84-4a8b-a146-e41f84918718"
      },
      "outputs": [
        {
          "name": "stdout",
          "output_type": "stream",
          "text": [
            "\n",
            "X = \n",
            " [[1. 1.]\n",
            " [1. 1.]\n",
            " [1. 1.]]\n",
            "\n",
            "X has dimensions: (3, 2)\n",
            "X is an object of type: <class 'numpy.ndarray'>\n",
            "The elements in X are of type: float64\n"
          ]
        }
      ],
      "source": [
        "# We create a 3 x 2 ndarray full of ones.\n",
        "X = np.ones((3,2))\n",
        "\n",
        "# We print X\n",
        "print()\n",
        "print('X = \\n', X)\n",
        "print()\n",
        "\n",
        "# We print information about X\n",
        "print('X has dimensions:', X.shape)\n",
        "print('X is an object of type:', type(X))\n",
        "print('The elements in X are of type:', X.dtype)"
      ]
    },
    {
      "cell_type": "code",
      "execution_count": null,
      "metadata": {
        "colab": {
          "base_uri": "https://localhost:8080/"
        },
        "id": "La-dc_uPrpJG",
        "outputId": "1bed3752-b8dc-4c73-8876-3731d5607105"
      },
      "outputs": [
        {
          "name": "stdout",
          "output_type": "stream",
          "text": [
            "\n",
            "X = \n",
            " [[5 5 5]\n",
            " [5 5 5]]\n",
            "\n",
            "X has dimensions: (2, 3)\n",
            "X is an object of type: <class 'numpy.ndarray'>\n",
            "The elements in X are of type: int64\n"
          ]
        }
      ],
      "source": [
        "# We create a 2 x 3 ndarray full of fives.\n",
        "X = np.full((2,3), 5)\n",
        "\n",
        "# We print X\n",
        "print()\n",
        "print('X = \\n', X)\n",
        "print()\n",
        "\n",
        "# We print information about X\n",
        "print('X has dimensions:', X.shape)\n",
        "print('X is an object of type:', type(X))\n",
        "print('The elements in X are of type:', X.dtype)"
      ]
    },
    {
      "cell_type": "markdown",
      "metadata": {
        "id": "Jf8wM4qBr19h"
      },
      "source": [
        "A fundamental array in Linear Algebra is the Identity Matrix. An Identity matrix is a square matrix that has only 1s in its main diagonal and zeros everywhere else. The function np.eye(N) creates a square N x N ndarray corresponding to the Identity matrix. Since all Identity Matrices are square, the np.eye() function only takes a single integer as an argument. Let's see an example:"
      ]
    },
    {
      "cell_type": "code",
      "execution_count": null,
      "metadata": {
        "colab": {
          "base_uri": "https://localhost:8080/"
        },
        "id": "hd95EJEFr1qC",
        "outputId": "c9d1a871-a581-4e4e-ce56-9d4f35a99e99"
      },
      "outputs": [
        {
          "name": "stdout",
          "output_type": "stream",
          "text": [
            "\n",
            "X = \n",
            " [[1. 0. 0. 0. 0.]\n",
            " [0. 1. 0. 0. 0.]\n",
            " [0. 0. 1. 0. 0.]\n",
            " [0. 0. 0. 1. 0.]\n",
            " [0. 0. 0. 0. 1.]]\n",
            "\n",
            "X has dimensions: (5, 5)\n",
            "X is an object of type: <class 'numpy.ndarray'>\n",
            "The elements in X are of type: float64\n"
          ]
        }
      ],
      "source": [
        "# We create a 5 x 5 Identity matrix.\n",
        "X = np.eye(5)\n",
        "\n",
        "# We print X\n",
        "print()\n",
        "print('X = \\n', X)\n",
        "print()\n",
        "\n",
        "# We print information about X\n",
        "print('X has dimensions:', X.shape)\n",
        "print('X is an object of type:', type(X))\n",
        "print('The elements in X are of type:', X.dtype)"
      ]
    },
    {
      "cell_type": "markdown",
      "metadata": {
        "id": "FKbzPpzAsKS_"
      },
      "source": [
        " We can also create diagonal matrices by using the np.diag() function. A diagonal matrix is a square matrix that only has values in its main diagonal. The np.diag() function creates an ndarray corresponding to a diagonal matrix , as shown in the example below:"
      ]
    },
    {
      "cell_type": "code",
      "execution_count": null,
      "metadata": {
        "colab": {
          "base_uri": "https://localhost:8080/"
        },
        "id": "OipLOojqsLYr",
        "outputId": "047a5a4d-43d0-4410-82f9-3216f9d0f1ff"
      },
      "outputs": [
        {
          "name": "stdout",
          "output_type": "stream",
          "text": [
            "\n",
            "X = \n",
            " [[10  0  0  0]\n",
            " [ 0 20  0  0]\n",
            " [ 0  0 30  0]\n",
            " [ 0  0  0 50]]\n",
            "\n"
          ]
        }
      ],
      "source": [
        "# Create a 4 x 4 diagonal matrix that contains the numbers 10,20,30, and 50\n",
        "# on its main diagonal\n",
        "X = np.diag([10,20,30,50])\n",
        "\n",
        "# We print X\n",
        "print()\n",
        "print('X = \\n', X)\n",
        "print()"
      ]
    },
    {
      "cell_type": "markdown",
      "metadata": {
        "id": "kmN_Eaws0VwF"
      },
      "source": [
        "### NumPy arange function"
      ]
    },
    {
      "cell_type": "code",
      "execution_count": null,
      "metadata": {
        "colab": {
          "base_uri": "https://localhost:8080/"
        },
        "id": "_3acSVKuusux",
        "outputId": "fb0d928a-3116-433f-d5bf-18c8be247c9e"
      },
      "outputs": [
        {
          "name": "stdout",
          "output_type": "stream",
          "text": [
            "\n",
            "x =  [0 1 2 3 4 5 6 7 8 9]\n",
            "\n",
            "x has dimensions: (10,)\n",
            "x is an object of type: <class 'numpy.ndarray'>\n",
            "The elements in x are of type: int64\n"
          ]
        }
      ],
      "source": [
        "# We create a rank 1 ndarray that has sequential integers from 0 to 9\n",
        "x = np.arange(10)\n",
        "# We print the ndarray\n",
        "print()\n",
        "print('x = ', x)\n",
        "print()\n",
        "\n",
        "# We print information about the ndarray\n",
        "print('x has dimensions:', x.shape)\n",
        "print('x is an object of type:', type(x))\n",
        "print('The elements in x are of type:', x.dtype)"
      ]
    },
    {
      "cell_type": "code",
      "execution_count": null,
      "metadata": {
        "colab": {
          "base_uri": "https://localhost:8080/"
        },
        "id": "yQyFPEYsuywX",
        "outputId": "906988e2-8474-4f3d-aad9-f26132a8e390"
      },
      "outputs": [
        {
          "name": "stdout",
          "output_type": "stream",
          "text": [
            "\n",
            "x =  [ 1  4  7 10 13]\n",
            "\n",
            "x has dimensions: (5,)\n",
            "x is an object of type: <class 'numpy.ndarray'>\n",
            "The elements in x are of type: int64\n"
          ]
        }
      ],
      "source": [
        "#np.arange(start,stop,step)\n",
        "# We create a rank 1 ndarray that has evenly spaced integers from 1 to 13 in steps of 3.\n",
        "x = np.arange(1,14,3)\n",
        "\n",
        "# We print the ndarray\n",
        "print()\n",
        "print('x = ', x)\n",
        "print()\n",
        "\n",
        "# We print information about the ndarray\n",
        "print('x has dimensions:', x.shape)\n",
        "print('x is an object of type:', type(x))\n",
        "print('The elements in x are of type:', x.dtype)"
      ]
    },
    {
      "cell_type": "markdown",
      "metadata": {
        "id": "1O-iSPdgvllT"
      },
      "source": [
        "Even though the np.arange() function allows for non-integer steps, such as 0.3, the output is usually inconsistent, due to the finite floating point precision. For this reason, in the cases where non-integer steps are required, it is usually better to use the function np.linspace(). The np.linspace(start, stop, N) function returns N evenly spaced numbers over the closed interval [start, stop]. This means that both the start and thestop values are included. We should also note the np.linspace() function needs to be called with at least two arguments in the form np.linspace(start,stop). In this case, the default number of elements in the specified interval will be N= 50. The reason np.linspace() works better than the np.arange() function, is that np.linspace() uses the number of elements we want in a particular interval, instead of the step between values. Let's see some examples:"
      ]
    },
    {
      "cell_type": "markdown",
      "metadata": {
        "id": "RMDEf_ns0Q0z"
      },
      "source": [
        "### NumPy- linespace function"
      ]
    },
    {
      "cell_type": "code",
      "execution_count": null,
      "metadata": {
        "colab": {
          "base_uri": "https://localhost:8080/"
        },
        "id": "Trh2QRT6u2_Z",
        "outputId": "38fec56f-8658-4cda-d82d-47ca94dce6aa"
      },
      "outputs": [
        {
          "name": "stdout",
          "output_type": "stream",
          "text": [
            "\n",
            "x = \n",
            " [ 0.          2.77777778  5.55555556  8.33333333 11.11111111 13.88888889\n",
            " 16.66666667 19.44444444 22.22222222 25.        ]\n",
            "\n",
            "x has dimensions: (10,)\n",
            "x is an object of type: <class 'numpy.ndarray'>\n",
            "The elements in x are of type: float64\n"
          ]
        }
      ],
      "source": [
        "# We create a rank 1 ndarray that has 10 integers evenly spaced between 0 and 25.\n",
        "x = np.linspace(0,25,10)\n",
        "\n",
        "# We print the ndarray\n",
        "print()\n",
        "print('x = \\n', x)\n",
        "print()\n",
        "\n",
        "# We print information about the ndarray\n",
        "print('x has dimensions:', x.shape)\n",
        "print('x is an object of type:', type(x))\n",
        "print('The elements in x are of type:', x.dtype)"
      ]
    },
    {
      "cell_type": "code",
      "execution_count": null,
      "metadata": {
        "colab": {
          "base_uri": "https://localhost:8080/"
        },
        "id": "BjO_5088vnPd",
        "outputId": "d14d0502-db4f-4a6e-e065-9e40c6a3a2de"
      },
      "outputs": [
        {
          "name": "stdout",
          "output_type": "stream",
          "text": [
            "\n",
            "x =  [ 0.   2.5  5.   7.5 10.  12.5 15.  17.5 20.  22.5]\n",
            "\n",
            "x has dimensions: (10,)\n",
            "x is an object of type: <class 'numpy.ndarray'>\n",
            "The elements in x are of type: float64\n"
          ]
        }
      ],
      "source": [
        "# We create a rank 1 ndarray that has 10 integers evenly spaced between 0 and 25,\n",
        "# with 25 excluded.\n",
        "x = np.linspace(0,25,10, endpoint = False)\n",
        "\n",
        "# We print the ndarray\n",
        "print()\n",
        "print('x = ', x)\n",
        "print()\n",
        "\n",
        "# We print information about the ndarray\n",
        "print('x has dimensions:', x.shape)\n",
        "print('x is an object of type:', type(x))\n",
        "print('The elements in x are of type:', x.dtype)"
      ]
    },
    {
      "cell_type": "markdown",
      "metadata": {
        "id": "HCHJhhO70JrD"
      },
      "source": [
        "### NumPy - reshape function"
      ]
    },
    {
      "cell_type": "code",
      "execution_count": null,
      "metadata": {
        "colab": {
          "base_uri": "https://localhost:8080/"
        },
        "id": "v4l8V-CX0Gjb",
        "outputId": "712d518b-8e96-43aa-f203-7ffea7e9ca9f"
      },
      "outputs": [
        {
          "name": "stdout",
          "output_type": "stream",
          "text": [
            "\n",
            "Original x =  [ 0  1  2  3  4  5  6  7  8  9 10 11 12 13 14 15 16 17 18 19]\n",
            "\n",
            "\n",
            "Reshaped x = \n",
            " [[ 0  1  2  3  4]\n",
            " [ 5  6  7  8  9]\n",
            " [10 11 12 13 14]\n",
            " [15 16 17 18 19]]\n",
            "\n",
            "x has dimensions: (4, 5)\n",
            "x is an object of type: <class 'numpy.ndarray'>\n",
            "The elements in x are of type: int64\n"
          ]
        }
      ],
      "source": [
        "# We create a rank 1 ndarray with sequential integers from 0 to 19\n",
        "x = np.arange(20)\n",
        "\n",
        "# We print x\n",
        "print()\n",
        "print('Original x = ', x)\n",
        "print()\n",
        "\n",
        "# We reshape x into a 4 x 5 ndarray\n",
        "x = np.reshape(x, (4,5))\n",
        "\n",
        "# We print the reshaped x\n",
        "print()\n",
        "print('Reshaped x = \\n', x)\n",
        "print()\n",
        "\n",
        "# We print information about the reshaped x\n",
        "print('x has dimensions:', x.shape)\n",
        "print('x is an object of type:', type(x))\n",
        "print('The elements in x are of type:', x.dtype)"
      ]
    },
    {
      "cell_type": "markdown",
      "metadata": {
        "id": "CeOfyjwR0oXq"
      },
      "source": [
        "One great feature about NumPy, is that some functions can also be applied as methods. This allows us to apply different functions in sequence in just one line of code. ndarray methods are similar to ndarray attributes in that they are both applied using dot notation (.). Let's see how we can accomplish the same result as in the above example, but in just one line of code:"
      ]
    },
    {
      "cell_type": "code",
      "execution_count": null,
      "metadata": {
        "colab": {
          "base_uri": "https://localhost:8080/"
        },
        "id": "wEZsxsgY0pU1",
        "outputId": "0bdfb0d0-851a-452f-a1bd-ee591cbc10a8"
      },
      "outputs": [
        {
          "name": "stdout",
          "output_type": "stream",
          "text": [
            "\n",
            "Y = \n",
            " [[ 0  1  2  3  4]\n",
            " [ 5  6  7  8  9]\n",
            " [10 11 12 13 14]\n",
            " [15 16 17 18 19]]\n",
            "\n",
            "Y has dimensions: (4, 5)\n",
            "Y is an object of type: <class 'numpy.ndarray'>\n",
            "The elements in Y are of type: int64\n"
          ]
        }
      ],
      "source": [
        "# We create a a rank 1 ndarray with sequential integers from 0 to 19 and\n",
        "# reshape it to a 4 x 5 array\n",
        "Y = np.arange(20).reshape(4, 5)\n",
        "\n",
        "# We print Y\n",
        "print()\n",
        "print('Y = \\n', Y)\n",
        "print()\n",
        "\n",
        "# We print information about Y\n",
        "print('Y has dimensions:', Y.shape)\n",
        "print('Y is an object of type:', type(Y))\n",
        "print('The elements in Y are of type:', Y.dtype)"
      ]
    },
    {
      "cell_type": "code",
      "execution_count": null,
      "metadata": {
        "colab": {
          "base_uri": "https://localhost:8080/"
        },
        "id": "5Kb90ht108Gw",
        "outputId": "ae4f8abe-7fdb-43bd-cb27-6f6eff042367"
      },
      "outputs": [
        {
          "name": "stdout",
          "output_type": "stream",
          "text": [
            "\n",
            "X = \n",
            " [[ 0.  5.]\n",
            " [10. 15.]\n",
            " [20. 25.]\n",
            " [30. 35.]\n",
            " [40. 45.]]\n",
            "\n",
            "X has dimensions: (5, 2)\n",
            "X is an object of type: <class 'numpy.ndarray'>\n",
            "The elements in X are of type: float64\n"
          ]
        }
      ],
      "source": [
        "# We create a rank 1 ndarray with 10 integers evenly spaced between 0 and 50,\n",
        "# with 50 excluded. We then reshape it to a 5 x 2 ndarray\n",
        "X = np.linspace(0,50,10, endpoint=False).reshape(5,2)\n",
        "\n",
        "# We print X\n",
        "print()\n",
        "print('X = \\n', X)\n",
        "print()\n",
        "\n",
        "# We print information about X\n",
        "print('X has dimensions:', X.shape)\n",
        "print('X is an object of type:', type(X))\n",
        "print('The elements in X are of type:', X.dtype)"
      ]
    },
    {
      "cell_type": "code",
      "execution_count": null,
      "metadata": {
        "colab": {
          "base_uri": "https://localhost:8080/"
        },
        "id": "5Lgu8InH1kQG",
        "outputId": "6e6bb2cc-616a-417e-f114-08f0d14eb624"
      },
      "outputs": [
        {
          "name": "stdout",
          "output_type": "stream",
          "text": [
            "\n",
            "X = \n",
            " [[0.11886448 0.79182891 0.17941979]\n",
            " [0.18300446 0.78316562 0.19944014]\n",
            " [0.78789217 0.45369283 0.94642767]]\n",
            "\n",
            "X has dimensions: (3, 3)\n",
            "X is an object of type: <class 'numpy.ndarray'>\n",
            "The elements in x are of type: float64\n"
          ]
        }
      ],
      "source": [
        "# We create a 3 x 3 ndarray with random floats in the half-open interval [0.0, 1.0).\n",
        "X = np.random.random((3,3))\n",
        "\n",
        "# We print X\n",
        "print()\n",
        "print('X = \\n', X)\n",
        "print()\n",
        "\n",
        "# We print information about X\n",
        "print('X has dimensions:', X.shape)\n",
        "print('X is an object of type:', type(X))\n",
        "print('The elements in x are of type:', X.dtype)"
      ]
    },
    {
      "cell_type": "code",
      "execution_count": null,
      "metadata": {
        "colab": {
          "base_uri": "https://localhost:8080/"
        },
        "id": "hIhuDKuO3_RB",
        "outputId": "990101a9-df5e-439d-ff08-0c504981213a"
      },
      "outputs": [
        {
          "name": "stdout",
          "output_type": "stream",
          "text": [
            "\n",
            "X = \n",
            " [[12 12]\n",
            " [ 6 10]\n",
            " [10  5]]\n",
            "\n",
            "X has dimensions: (3, 2)\n",
            "X is an object of type: <class 'numpy.ndarray'>\n",
            "The elements in X are of type: int64\n"
          ]
        }
      ],
      "source": [
        "# We create a 3 x 2 ndarray with random integers in the half-open interval [4, 15).\n",
        "X = np.random.randint(4,15,size=(3,2))\n",
        "\n",
        "# We print X\n",
        "print()\n",
        "print('X = \\n', X)\n",
        "print()\n",
        "\n",
        "# We print information about X\n",
        "print('X has dimensions:', X.shape)\n",
        "print('X is an object of type:', type(X))\n",
        "print('The elements in X are of type:', X.dtype)"
      ]
    },
    {
      "cell_type": "markdown",
      "metadata": {
        "id": "tfbjYjJ174DU"
      },
      "source": [
        "## Accessing elements in an ndarray\n",
        "the elements of an ndarray can be accessed or modified by indexing. Elements can be accessed using indices inside square brackets, [ ]. NumPy allows you to use both positive and negative indices to access elements in the ndarray. Positive indices are used to access elements from the beginning of the array, while negative indices are used to access elements from the end of the array"
      ]
    },
    {
      "cell_type": "code",
      "execution_count": null,
      "metadata": {
        "colab": {
          "base_uri": "https://localhost:8080/"
        },
        "id": "2MPNYXT77-GB",
        "outputId": "9486050c-ed80-4977-b07a-7b50e31c8f6a"
      },
      "outputs": [
        {
          "name": "stdout",
          "output_type": "stream",
          "text": [
            "This is First Element in x: 1\n",
            "This is Second Element in x: 2\n",
            "This is Fifth (Last) Element in x: 5\n",
            "\n",
            "This is First Element in x: 1\n",
            "This is Second Element in x: 2\n",
            "This is Fifth (Last) Element in x: 5\n"
          ]
        }
      ],
      "source": [
        "# We create a rank 1 ndarray that contains integers from 1 to 5\n",
        "x = np.array([1, 2, 3, 4, 5])\n",
        "\n",
        "# Let's access some elements with positive indices\n",
        "print('This is First Element in x:', x[0])\n",
        "print('This is Second Element in x:', x[1])\n",
        "print('This is Fifth (Last) Element in x:', x[4])\n",
        "print()\n",
        "\n",
        "# Let's access the same elements with negative indices\n",
        "print('This is First Element in x:', x[-5])\n",
        "print('This is Second Element in x:', x[-4])\n",
        "print('This is Fifth (Last) Element in x:', x[-1])"
      ]
    },
    {
      "cell_type": "markdown",
      "metadata": {
        "id": "T4D2N_a971m6"
      },
      "source": [
        "## NumPy - Delete function"
      ]
    },
    {
      "cell_type": "code",
      "execution_count": null,
      "metadata": {
        "id": "0mnkvgdp3Cgb"
      },
      "outputs": [],
      "source": [
        "import numpy as np"
      ]
    },
    {
      "cell_type": "code",
      "execution_count": null,
      "metadata": {
        "colab": {
          "base_uri": "https://localhost:8080/"
        },
        "id": "LBmdpKMj27i1",
        "outputId": "d64698c0-b808-4679-acd7-893a8ab3b3f1"
      },
      "outputs": [
        {
          "data": {
            "text/plain": [
              "array([1, 2, 3, 4, 5])"
            ]
          },
          "execution_count": 20,
          "metadata": {},
          "output_type": "execute_result"
        }
      ],
      "source": [
        "#rank 1 ndarray\n",
        "x1=np.array([1,2,3,4,5])\n",
        "x1"
      ]
    },
    {
      "cell_type": "code",
      "execution_count": null,
      "metadata": {
        "colab": {
          "base_uri": "https://localhost:8080/"
        },
        "id": "A-FSXSrJ3N_C",
        "outputId": "6aa13642-33c1-40ac-c3bc-c5c25f733a12"
      },
      "outputs": [
        {
          "data": {
            "text/plain": [
              "array([2, 3, 4, 5])"
            ]
          },
          "execution_count": 21,
          "metadata": {},
          "output_type": "execute_result"
        }
      ],
      "source": [
        "#delete first element\n",
        "x1=np.delete(x1,0)"
      ]
    },
    {
      "cell_type": "code",
      "execution_count": null,
      "metadata": {
        "id": "kpJgPxPUWmUm"
      },
      "outputs": [],
      "source": [
        "#rank 2 ndarray\n",
        "x2=np.arange(1,10).reshape(3,3)"
      ]
    },
    {
      "cell_type": "code",
      "execution_count": null,
      "metadata": {
        "colab": {
          "base_uri": "https://localhost:8080/"
        },
        "id": "2dT3SFLk2nfQ",
        "outputId": "463e20d4-5dd8-4615-a546-6c632605a3ff"
      },
      "outputs": [
        {
          "data": {
            "text/plain": [
              "array([[1, 2, 3],\n",
              "       [4, 5, 6],\n",
              "       [7, 8, 9]])"
            ]
          },
          "execution_count": 23,
          "metadata": {},
          "output_type": "execute_result"
        }
      ],
      "source": [
        "x2"
      ]
    },
    {
      "cell_type": "code",
      "execution_count": null,
      "metadata": {
        "colab": {
          "base_uri": "https://localhost:8080/"
        },
        "id": "_STFg30A2vvi",
        "outputId": "425425fb-28ae-4217-fd0e-eda34488bfa1"
      },
      "outputs": [
        {
          "data": {
            "text/plain": [
              "array([[4, 5, 6],\n",
              "       [7, 8, 9]])"
            ]
          },
          "execution_count": 24,
          "metadata": {},
          "output_type": "execute_result"
        }
      ],
      "source": [
        "#delete 0th row\n",
        "x2=np.delete(x2,0, axis=0)"
      ]
    },
    {
      "cell_type": "code",
      "execution_count": null,
      "metadata": {
        "colab": {
          "base_uri": "https://localhost:8080/"
        },
        "id": "rmfvRR_C3Ym_",
        "outputId": "573af336-5aec-4cd1-b186-3e01423e73e6"
      },
      "outputs": [
        {
          "data": {
            "text/plain": [
              "array([[2],\n",
              "       [5],\n",
              "       [8]])"
            ]
          },
          "execution_count": 25,
          "metadata": {},
          "output_type": "execute_result"
        }
      ],
      "source": [
        "#delete 0th and 2nd column\n",
        "x2=np.delete(x2,[0,2], axis=1)"
      ]
    },
    {
      "cell_type": "markdown",
      "metadata": {
        "id": "o5DwO7gz7xD4"
      },
      "source": [
        "## NumPy - append function"
      ]
    },
    {
      "cell_type": "code",
      "execution_count": null,
      "metadata": {
        "colab": {
          "base_uri": "https://localhost:8080/"
        },
        "id": "cfG3rY_f3wFX",
        "outputId": "91480aa6-a759-4ee4-b885-7766fb9b4ab5"
      },
      "outputs": [
        {
          "name": "stdout",
          "output_type": "stream",
          "text": [
            "\n",
            "Original x =  [1 2 3 4 5]\n",
            "\n",
            "Modified x =  [2 3 4]\n",
            "\n",
            "Original Y = \n",
            " [[1 2 3]\n",
            " [4 5 6]\n",
            " [7 8 9]]\n",
            "\n",
            "w = \n",
            " [[4 5 6]\n",
            " [7 8 9]]\n",
            "\n",
            "v = \n",
            " [[2]\n",
            " [5]\n",
            " [8]]\n"
          ]
        }
      ],
      "source": [
        "# We create a rank 1 ndarray\n",
        "x = np.array([1, 2, 3, 4, 5])\n",
        "\n",
        "# We create a rank 2 ndarray\n",
        "Y = np.array([[1,2,3],[4,5,6],[7,8,9]])\n",
        "\n",
        "# We print x\n",
        "print()\n",
        "print('Original x = ', x)\n",
        "\n",
        "# We delete the first and last element of x\n",
        "x = np.delete(x, [0,4])\n",
        "\n",
        "# We print x with the first and last element deleted\n",
        "print()\n",
        "print('Modified x = ', x)\n",
        "\n",
        "# We print Y\n",
        "print()\n",
        "print('Original Y = \\n', Y)\n",
        "\n",
        "# We delete the first row of y\n",
        "w = np.delete(Y, 0, axis=0)\n",
        "\n",
        "# We delete the first and last column of y\n",
        "v = np.delete(Y, [0,2], axis=1)\n",
        "\n",
        "# We print w\n",
        "print()\n",
        "print('w = \\n', w)\n",
        "\n",
        "# We print v\n",
        "print()\n",
        "print('v = \\n', v)"
      ]
    },
    {
      "cell_type": "code",
      "execution_count": null,
      "metadata": {
        "id": "DTmnUlT975B1"
      },
      "outputs": [],
      "source": [
        "rank1Array=np.array([1,2,3,4,5])"
      ]
    },
    {
      "cell_type": "code",
      "execution_count": null,
      "metadata": {
        "colab": {
          "base_uri": "https://localhost:8080/"
        },
        "id": "jiK5GDIiMMJV",
        "outputId": "311f2b4d-3039-40aa-9fa8-09ac9ab5113b"
      },
      "outputs": [
        {
          "data": {
            "text/plain": [
              "array([1, 2, 3, 4, 5])"
            ]
          },
          "execution_count": 30,
          "metadata": {},
          "output_type": "execute_result"
        }
      ],
      "source": [
        "rank1Array"
      ]
    },
    {
      "cell_type": "code",
      "execution_count": null,
      "metadata": {
        "id": "Pu3sO7X4MNTR"
      },
      "outputs": [],
      "source": [
        "#append an element in the above rank 1 array\n",
        "rank1Array=np.append(rank1Array,6)"
      ]
    },
    {
      "cell_type": "code",
      "execution_count": null,
      "metadata": {
        "colab": {
          "base_uri": "https://localhost:8080/"
        },
        "id": "ZgBB4ptOOf3n",
        "outputId": "527f9bbc-8339-4f30-c596-9b8617b572ef"
      },
      "outputs": [
        {
          "data": {
            "text/plain": [
              "array([1, 2, 3, 4, 5, 6])"
            ]
          },
          "execution_count": 33,
          "metadata": {},
          "output_type": "execute_result"
        }
      ],
      "source": [
        "rank1Array"
      ]
    },
    {
      "cell_type": "code",
      "execution_count": null,
      "metadata": {
        "id": "DP8Xf4zHOk-b"
      },
      "outputs": [],
      "source": [
        "rank2Array=np.array([[1,2],[3,4],[5,6]])"
      ]
    },
    {
      "cell_type": "code",
      "execution_count": null,
      "metadata": {
        "colab": {
          "base_uri": "https://localhost:8080/"
        },
        "id": "haD2oEQsO0-p",
        "outputId": "ccc39b35-343e-4f0a-ac07-ce65bcb7192c"
      },
      "outputs": [
        {
          "data": {
            "text/plain": [
              "array([[1, 2],\n",
              "       [3, 4],\n",
              "       [5, 6]])"
            ]
          },
          "execution_count": 50,
          "metadata": {},
          "output_type": "execute_result"
        }
      ],
      "source": [
        "rank2Array"
      ]
    },
    {
      "cell_type": "code",
      "execution_count": null,
      "metadata": {
        "id": "ycvDMYRuO2Kj"
      },
      "outputs": [],
      "source": [
        "#add a new row`\n",
        "rank2Array=np.append(rank2Array, [[7,8]], axis=0)"
      ]
    },
    {
      "cell_type": "code",
      "execution_count": null,
      "metadata": {
        "colab": {
          "base_uri": "https://localhost:8080/"
        },
        "id": "Im8ObXGlPDbd",
        "outputId": "ff12405c-7d3d-4206-bde2-de14d41e3c51"
      },
      "outputs": [
        {
          "data": {
            "text/plain": [
              "array([[1, 2],\n",
              "       [3, 4],\n",
              "       [5, 6],\n",
              "       [7, 8]])"
            ]
          },
          "execution_count": 52,
          "metadata": {},
          "output_type": "execute_result"
        }
      ],
      "source": [
        "rank2Array"
      ]
    },
    {
      "cell_type": "code",
      "execution_count": null,
      "metadata": {
        "id": "p-6jZMezPJER"
      },
      "outputs": [],
      "source": [
        "#add new column\n",
        "rank2Array=np.append(rank2Array, [[0],[0],[0],[0]], axis=1)"
      ]
    },
    {
      "cell_type": "code",
      "execution_count": null,
      "metadata": {
        "colab": {
          "base_uri": "https://localhost:8080/"
        },
        "id": "lFjxDGfyPZ2E",
        "outputId": "6f3b5f31-106d-42e9-c73d-9e54fa4afaab"
      },
      "outputs": [
        {
          "data": {
            "text/plain": [
              "array([[1, 2, 0],\n",
              "       [3, 4, 0],\n",
              "       [5, 6, 0],\n",
              "       [7, 8, 0]])"
            ]
          },
          "execution_count": 54,
          "metadata": {},
          "output_type": "execute_result"
        }
      ],
      "source": [
        "rank2Array"
      ]
    },
    {
      "cell_type": "code",
      "execution_count": null,
      "metadata": {
        "id": "Z5tKf5hpPbNR"
      },
      "outputs": [],
      "source": [
        "rank2Array=np.delete(rank2Array, [0,1], axis=0)"
      ]
    },
    {
      "cell_type": "code",
      "execution_count": null,
      "metadata": {
        "colab": {
          "base_uri": "https://localhost:8080/"
        },
        "id": "RLv4kvssQt26",
        "outputId": "7ee86fd2-56d1-4473-fbef-ebea9e168f74"
      },
      "outputs": [
        {
          "data": {
            "text/plain": [
              "array([[5, 6, 0],\n",
              "       [7, 8, 0]])"
            ]
          },
          "execution_count": 56,
          "metadata": {},
          "output_type": "execute_result"
        }
      ],
      "source": [
        "rank2Array"
      ]
    },
    {
      "cell_type": "markdown",
      "metadata": {
        "id": "m_09D8mzQ8Jv"
      },
      "source": [
        "## NumPy - Insert function"
      ]
    },
    {
      "cell_type": "code",
      "execution_count": null,
      "metadata": {
        "colab": {
          "base_uri": "https://localhost:8080/"
        },
        "id": "E46Tm76CRB_s",
        "outputId": "1b501947-3d51-4177-98f2-ad74a7c638c4"
      },
      "outputs": [
        {
          "data": {
            "text/plain": [
              "array([[5, 6, 0],\n",
              "       [7, 8, 0]])"
            ]
          },
          "execution_count": 57,
          "metadata": {},
          "output_type": "execute_result"
        }
      ],
      "source": [
        "rank2Array"
      ]
    },
    {
      "cell_type": "code",
      "execution_count": null,
      "metadata": {
        "id": "cMPN-jRnQuxv"
      },
      "outputs": [],
      "source": [
        "rank2Array=np.insert(rank2Array,1, [1,1,1], axis=0)"
      ]
    },
    {
      "cell_type": "code",
      "execution_count": null,
      "metadata": {
        "colab": {
          "base_uri": "https://localhost:8080/"
        },
        "id": "f7tc1BxZQ151",
        "outputId": "9c2c60f8-7c20-46af-d911-1a4f68282522"
      },
      "outputs": [
        {
          "data": {
            "text/plain": [
              "array([[5, 6, 0],\n",
              "       [1, 1, 1],\n",
              "       [7, 8, 0]])"
            ]
          },
          "execution_count": 59,
          "metadata": {},
          "output_type": "execute_result"
        }
      ],
      "source": [
        "rank2Array"
      ]
    },
    {
      "cell_type": "code",
      "execution_count": null,
      "metadata": {
        "id": "YNtZLWzOQ_e_"
      },
      "outputs": [],
      "source": [
        "rank2Array=np.insert(rank2Array,1, 5, axis=1)"
      ]
    },
    {
      "cell_type": "code",
      "execution_count": null,
      "metadata": {
        "colab": {
          "base_uri": "https://localhost:8080/"
        },
        "id": "0qDmRrRlRo0A",
        "outputId": "722ab27d-00b0-4388-e564-34fc8825c98d"
      },
      "outputs": [
        {
          "data": {
            "text/plain": [
              "array([[5, 5, 6, 0],\n",
              "       [1, 5, 1, 1],\n",
              "       [7, 5, 8, 0]])"
            ]
          },
          "execution_count": 61,
          "metadata": {},
          "output_type": "execute_result"
        }
      ],
      "source": [
        "rank2Array"
      ]
    },
    {
      "cell_type": "code",
      "execution_count": null,
      "metadata": {
        "colab": {
          "base_uri": "https://localhost:8080/"
        },
        "id": "uBvGng1PRqcA",
        "outputId": "6acb1d57-221a-49e9-ca7d-7a93434f3add"
      },
      "outputs": [
        {
          "name": "stdout",
          "output_type": "stream",
          "text": [
            "\n",
            "x =  [1 2]\n",
            "\n",
            "Y = \n",
            " [[3 4]\n",
            " [5 6]]\n",
            "Vertical Stacking\n",
            "z = \n",
            " [[1 2]\n",
            " [3 4]\n",
            " [5 6]]\n",
            "Horizontal Stacking\n",
            "w = \n",
            " [[3 4 1]\n",
            " [5 6 2]]\n"
          ]
        }
      ],
      "source": [
        "# We create a rank 1 ndarray\n",
        "x = np.array([1,2])\n",
        "\n",
        "# We create a rank 2 ndarray\n",
        "Y = np.array([[3,4],[5,6]])\n",
        "\n",
        "# We print x\n",
        "print()\n",
        "print('x = ', x)\n",
        "\n",
        "# We print Y\n",
        "print()\n",
        "print('Y = \\n', Y)\n",
        "\n",
        "# We stack x on top of Y\n",
        "z = np.vstack((x,Y))\n",
        "\n",
        "# We stack x on the right of Y. We need to reshape x in order to stack it on the right of Y.\n",
        "w = np.hstack((Y,x.reshape(2,1)))\n",
        "\n",
        "# We print z\n",
        "print('Vertical Stacking')\n",
        "print('z = \\n', z)\n",
        "\n",
        "# We print w\n",
        "print('Horizontal Stacking')\n",
        "print('w = \\n', w)"
      ]
    },
    {
      "cell_type": "code",
      "execution_count": null,
      "metadata": {
        "id": "PB7HLEQbSPCx"
      },
      "outputs": [],
      "source": [
        "import numpy as np\n",
        "list1=np.array([1,2,3.4,4.5])"
      ]
    },
    {
      "cell_type": "code",
      "execution_count": null,
      "metadata": {
        "colab": {
          "base_uri": "https://localhost:8080/"
        },
        "id": "eUXqQjbryRRB",
        "outputId": "2f40e980-af27-49b2-8e22-7db3e5dcd2fa"
      },
      "outputs": [
        {
          "data": {
            "text/plain": [
              "numpy.ndarray"
            ]
          },
          "execution_count": 2,
          "metadata": {},
          "output_type": "execute_result"
        }
      ],
      "source": [
        "type(list1)"
      ]
    },
    {
      "cell_type": "code",
      "execution_count": null,
      "metadata": {
        "colab": {
          "base_uri": "https://localhost:8080/"
        },
        "id": "rAucMmi3yT9b",
        "outputId": "895c4c80-1f34-4f33-d349-3d8c87270ab4"
      },
      "outputs": [
        {
          "data": {
            "text/plain": [
              "dtype('float64')"
            ]
          },
          "execution_count": 3,
          "metadata": {},
          "output_type": "execute_result"
        }
      ],
      "source": [
        "list1.dtype"
      ]
    },
    {
      "cell_type": "code",
      "execution_count": null,
      "metadata": {
        "colab": {
          "base_uri": "https://localhost:8080/"
        },
        "id": "A4qHIq53yWUg",
        "outputId": "628cec50-5d85-4ce6-860a-57d639896063"
      },
      "outputs": [
        {
          "data": {
            "text/plain": [
              "array([1. , 2. , 3.4, 4.5])"
            ]
          },
          "execution_count": 4,
          "metadata": {},
          "output_type": "execute_result"
        }
      ],
      "source": [
        "list1"
      ]
    },
    {
      "cell_type": "code",
      "execution_count": null,
      "metadata": {
        "id": "dLzxAfrpyZMe"
      },
      "outputs": [],
      "source": [
        "list2=np.array([1,2,3,\"Hello\",\"python\"])"
      ]
    },
    {
      "cell_type": "code",
      "execution_count": null,
      "metadata": {
        "colab": {
          "base_uri": "https://localhost:8080/"
        },
        "id": "jq_rvzQNyjl9",
        "outputId": "73581204-9eb0-44d2-f92b-ec2e43392e42"
      },
      "outputs": [
        {
          "data": {
            "text/plain": [
              "dtype('<U21')"
            ]
          },
          "execution_count": 6,
          "metadata": {},
          "output_type": "execute_result"
        }
      ],
      "source": [
        "list2.dtype"
      ]
    },
    {
      "cell_type": "code",
      "execution_count": null,
      "metadata": {
        "colab": {
          "base_uri": "https://localhost:8080/"
        },
        "id": "xakiEGjUykz5",
        "outputId": "729f2521-0603-4552-dcd7-3f69723d5436"
      },
      "outputs": [
        {
          "data": {
            "text/plain": [
              "array(['1', '2', '3', 'Hello', 'python'], dtype='<U21')"
            ]
          },
          "execution_count": 7,
          "metadata": {},
          "output_type": "execute_result"
        }
      ],
      "source": [
        "list2"
      ]
    },
    {
      "cell_type": "code",
      "execution_count": null,
      "metadata": {
        "id": "oBs9AZZ_ypUf"
      },
      "outputs": [],
      "source": [
        "list4=np.array([1,2,3,4.5], dtype=int)"
      ]
    },
    {
      "cell_type": "code",
      "execution_count": null,
      "metadata": {
        "colab": {
          "base_uri": "https://localhost:8080/"
        },
        "id": "SerwS5cry1H_",
        "outputId": "cbaaddbc-6562-4e0d-9420-b4aab947c435"
      },
      "outputs": [
        {
          "data": {
            "text/plain": [
              "array([1, 2, 3, 4])"
            ]
          },
          "execution_count": 9,
          "metadata": {},
          "output_type": "execute_result"
        }
      ],
      "source": [
        "list4"
      ]
    },
    {
      "cell_type": "code",
      "execution_count": null,
      "metadata": {
        "colab": {
          "base_uri": "https://localhost:8080/"
        },
        "id": "Ne-Of7Vvy2Sz",
        "outputId": "05f980ca-1fd3-4eb4-f853-0eb833dd373d"
      },
      "outputs": [
        {
          "data": {
            "text/plain": [
              "dtype('int64')"
            ]
          },
          "execution_count": 10,
          "metadata": {},
          "output_type": "execute_result"
        }
      ],
      "source": [
        "list4.dtype"
      ]
    },
    {
      "cell_type": "code",
      "execution_count": null,
      "metadata": {
        "id": "wdCXxePUy7Tu"
      },
      "outputs": [],
      "source": [
        "np.save(\"list4_data\",list4)"
      ]
    },
    {
      "cell_type": "code",
      "execution_count": null,
      "metadata": {
        "id": "86IbTJM2zir7"
      },
      "outputs": [],
      "source": [
        "y=np.load('/content/list4_data.npy')"
      ]
    },
    {
      "cell_type": "code",
      "execution_count": null,
      "metadata": {
        "colab": {
          "base_uri": "https://localhost:8080/"
        },
        "id": "vwp_9GRfzqmG",
        "outputId": "b29f3776-2469-4f62-ebb7-e0a4a5176eb4"
      },
      "outputs": [
        {
          "data": {
            "text/plain": [
              "array([1, 2, 3, 4])"
            ]
          },
          "execution_count": 13,
          "metadata": {},
          "output_type": "execute_result"
        }
      ],
      "source": [
        "y"
      ]
    },
    {
      "cell_type": "code",
      "execution_count": null,
      "metadata": {
        "id": "nQlEa4a3zq_0"
      },
      "outputs": [],
      "source": [
        "x=np.array([1,2,3,4,5])"
      ]
    },
    {
      "cell_type": "code",
      "execution_count": null,
      "metadata": {
        "id": "_PYAgHljALHv"
      },
      "outputs": [],
      "source": [
        "np.save('x_data', x)"
      ]
    },
    {
      "cell_type": "code",
      "execution_count": null,
      "metadata": {
        "id": "6SoRgp58AOB9"
      },
      "outputs": [],
      "source": [
        "y=np.load('/content/x_data.npy')"
      ]
    },
    {
      "cell_type": "code",
      "execution_count": null,
      "metadata": {
        "colab": {
          "base_uri": "https://localhost:8080/"
        },
        "id": "9eU9mkJlAWBd",
        "outputId": "6f68518c-20da-47f9-843a-de456267c17d"
      },
      "outputs": [
        {
          "data": {
            "text/plain": [
              "array([1, 2, 3, 4, 5])"
            ]
          },
          "execution_count": 17,
          "metadata": {},
          "output_type": "execute_result"
        }
      ],
      "source": [
        "y"
      ]
    },
    {
      "cell_type": "code",
      "execution_count": null,
      "metadata": {
        "id": "yKF6eYhOAWeq"
      },
      "outputs": [],
      "source": []
    },
    {
      "cell_type": "markdown",
      "metadata": {
        "id": "TQUN6Novmw_u"
      },
      "source": [
        "#Slicing ndarrays"
      ]
    },
    {
      "cell_type": "code",
      "execution_count": null,
      "metadata": {
        "colab": {
          "base_uri": "https://localhost:8080/"
        },
        "id": "ZOOmidFGm0mq",
        "outputId": "28689699-841f-45e7-b072-6cb9f4f00227"
      },
      "outputs": [
        {
          "name": "stdout",
          "output_type": "stream",
          "text": [
            "Original Rank 1 Array: [ 1  2  3  4  5  6  7  8  9 10]\n",
            "Sliced Array: [3 4 5 6]\n"
          ]
        }
      ],
      "source": [
        "rank1_array = np.array([1, 2, 3, 4, 5, 6, 7, 8, 9, 10])\n",
        "\n",
        "# Slicing from index 2 to index 6 (exclusive)\n",
        "sliced_array = rank1_array[2:6]\n",
        "\n",
        "print(\"Original Rank 1 Array:\", rank1_array)\n",
        "print(\"Sliced Array:\", sliced_array)"
      ]
    },
    {
      "cell_type": "code",
      "execution_count": null,
      "metadata": {
        "colab": {
          "base_uri": "https://localhost:8080/"
        },
        "id": "rEsNUYn-m9a6",
        "outputId": "4aab53ff-9e87-43bf-8f1b-6c9eab34b84d"
      },
      "outputs": [
        {
          "name": "stdout",
          "output_type": "stream",
          "text": [
            "Original Rank 2 Array:\n",
            " [[1 2 3]\n",
            " [4 5 6]\n",
            " [7 8 9]]\n",
            "Sliced Array:\n",
            " [[5 6]\n",
            " [8 9]]\n"
          ]
        }
      ],
      "source": [
        "\n",
        "# Create a rank 2 array\n",
        "rank2_array = np.array([[1, 2, 3], [4, 5, 6], [7, 8, 9]])\n",
        "\n",
        "# Slicing rows from index 1 to end and columns from index 1 to end\n",
        "sliced_array = rank2_array[1:, 1:]\n",
        "\n",
        "print(\"Original Rank 2 Array:\\n\", rank2_array)\n",
        "print(\"Sliced Array:\\n\", sliced_array)"
      ]
    },
    {
      "cell_type": "code",
      "execution_count": null,
      "metadata": {
        "colab": {
          "base_uri": "https://localhost:8080/"
        },
        "id": "NJUtSQNenHUb",
        "outputId": "7ab3567e-90d0-47e2-eceb-ddddbd691efa"
      },
      "outputs": [
        {
          "name": "stdout",
          "output_type": "stream",
          "text": [
            "Original Rank 1 Array: [ 1  2  3  4  5  6  7  8  9 10]\n",
            "Sliced Array: [ 2  4  6  8 10]\n"
          ]
        }
      ],
      "source": [
        "rank1_array = np.array([1, 2, 3, 4, 5, 6, 7, 8, 9, 10])\n",
        "\n",
        "# Slicing every other element from index 1 to end\n",
        "sliced_array = rank1_array[1::2]\n",
        "\n",
        "print(\"Original Rank 1 Array:\", rank1_array)\n",
        "print(\"Sliced Array:\", sliced_array)"
      ]
    },
    {
      "cell_type": "code",
      "execution_count": null,
      "metadata": {
        "colab": {
          "base_uri": "https://localhost:8080/"
        },
        "id": "7L8S2ixMnTLt",
        "outputId": "24f6f6ac-5c72-4d41-e811-e7a319bf8dd6"
      },
      "outputs": [
        {
          "name": "stdout",
          "output_type": "stream",
          "text": [
            "Original Rank 1 Array: [ 1  2  3  4  5  6  7  8  9 10]\n",
            "Sliced Array: [ 8  9 10]\n"
          ]
        }
      ],
      "source": [
        "# Create a rank 1 array\n",
        "rank1_array = np.array([1, 2, 3, 4, 5, 6, 7, 8, 9, 10])\n",
        "\n",
        "# Slicing last 3 elements using negative indices\n",
        "sliced_array = rank1_array[-3:]\n",
        "\n",
        "print(\"Original Rank 1 Array:\", rank1_array)\n",
        "print(\"Sliced Array:\", sliced_array)"
      ]
    }
  ],
  "metadata": {
    "colab": {
      "provenance": [],
      "include_colab_link": true
    },
    "kernelspec": {
      "display_name": "Python 3",
      "name": "python3"
    },
    "language_info": {
      "name": "python"
    }
  },
  "nbformat": 4,
  "nbformat_minor": 0
}