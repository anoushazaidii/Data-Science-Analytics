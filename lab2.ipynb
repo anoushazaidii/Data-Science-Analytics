{
  "nbformat": 4,
  "nbformat_minor": 0,
  "metadata": {
    "colab": {
      "provenance": [],
      "authorship_tag": "ABX9TyNw0aYFNSDurWDbocTrAbBr",
      "include_colab_link": true
    },
    "kernelspec": {
      "name": "python3",
      "display_name": "Python 3"
    },
    "language_info": {
      "name": "python"
    }
  },
  "cells": [
    {
      "cell_type": "markdown",
      "metadata": {
        "id": "view-in-github",
        "colab_type": "text"
      },
      "source": [
        "<a href=\"https://colab.research.google.com/github/anoushazaidii/Data-Science-Analytics/blob/main/lab2.ipynb\" target=\"_parent\"><img src=\"https://colab.research.google.com/assets/colab-badge.svg\" alt=\"Open In Colab\"/></a>"
      ]
    },
    {
      "cell_type": "code",
      "execution_count": null,
      "metadata": {
        "id": "E1i2hj3WkHzs"
      },
      "outputs": [],
      "source": [
        "\n",
        "#First Example -try changing the value of phone_balance\n",
        "phone_balance = 10\n",
        "bank_balance = 50\n",
        "if phone_balance < 10:\n",
        "  phone_balance += 10\n",
        "  bank_balance -= 10\n",
        "  print(phone_balance)\n",
        "  print(bank_balance)\n",
        "#Second Example -try changing the value of number\n",
        "# number = 145\n",
        "# if number % 2 == 0:\n",
        "#   print(\"Number \" + str(number) + \" is even.\")\n",
        "# else:\n",
        "#   print(\"Number \" + str(number) + \" is odd.\")\n",
        "#Third Example -try to change the value of age\n",
        "age = int(input(\"Enter your age\"))\n",
        "# Here are the age limits for bus fares\n",
        "free_up_to_age = 4\n",
        "child_up_to_age = 18\n",
        "senior_from_age = 65\n",
        "# These lines determine the bus fare prices\n",
        "concession_ticket = 1.25\n",
        "adult_ticket = 2.50\n",
        "# Here is the logic for bus fare prices\n",
        "if age <= free_up_to_age:\n",
        "  ticket_price = 0\n",
        "elif age <= child_up_to_age:\n",
        "  ticket_price = concession_ticket\n",
        "elif age >= senior_from_age:\n",
        "  ticket_price = concession_ticket\n",
        "else:\n",
        "  ticket_price = adult_ticket\n",
        "\n",
        "print(ticket_price)"
      ]
    },
    {
      "cell_type": "code",
      "source": [
        "\n",
        "cities = [\"HYD\",\"KHI\",\"LHR\",\"ISL\"]\n",
        "for i in range(1,10):\n",
        "  print(i)\n",
        "\n",
        "for city in cities:\n",
        "  print(city)\n",
        "\n",
        "list = []\n",
        "list2 = []\n",
        "for i in range(1,30):\n",
        "  if i%2 == 0:\n",
        "    list.append(i**2)\n",
        "  else:\n",
        "    list2.append(i**3)\n",
        "print(list)\n",
        "print(list2)"
      ],
      "metadata": {
        "id": "cKLF4boClqEy"
      },
      "execution_count": null,
      "outputs": []
    },
    {
      "cell_type": "code",
      "source": [
        "list3 = [i**2 if i%2==0 else i+3 for i in range(1,30)]\n",
        "list3"
      ],
      "metadata": {
        "id": "AKGBMKBBlu1K"
      },
      "execution_count": null,
      "outputs": []
    },
    {
      "cell_type": "code",
      "source": [
        "\n",
        "points = 174\n",
        "\n",
        "if points <= 50:\n",
        "    result = \"Congrats wooden rabbit!\"\n",
        "elif points <= 150:\n",
        "    result = \"No prize ):\"\n",
        "elif points <= 180:\n",
        "    result = \"Congrats! You won a wafer-thin mint!\"\n",
        "else:\n",
        "    result = \"Congrats! You won a penguin!\"\n",
        "\n",
        "print(result)\n",
        ""
      ],
      "metadata": {
        "id": "CYqviM6llx7e"
      },
      "execution_count": null,
      "outputs": []
    },
    {
      "cell_type": "code",
      "source": [
        "# Task # 02\n",
        "\n",
        "# Assuming 'answer' contains the number you are hiding and 'guess' contains the user's input\n",
        "\n",
        "answer = 42  # You can replace this with any number you want to hide\n",
        "\n",
        "# Get the user's guess as input\n",
        "guess = int(input(\"Take a guess: \"))\n",
        "\n",
        "# Compare the user's guess to the answer\n",
        "if guess < answer:\n",
        "    print(\"Your guess was too low.\")\n",
        "elif guess > answer:\n",
        "    print(\"Your guess was too high.\")\n",
        "else:\n",
        "    print(\"Congratulations! You guessed the correct number!\")\n",
        "\n"
      ],
      "metadata": {
        "colab": {
          "base_uri": "https://localhost:8080/",
          "height": 247
        },
        "id": "YmrQ7_pWl0zC",
        "outputId": "6ad4023a-a3d1-4301-f7ec-26eadfd5d981"
      },
      "execution_count": 1,
      "outputs": [
        {
          "output_type": "error",
          "ename": "NameError",
          "evalue": "ignored",
          "traceback": [
            "\u001b[0;31m---------------------------------------------------------------------------\u001b[0m",
            "\u001b[0;31mNameError\u001b[0m                                 Traceback (most recent call last)",
            "\u001b[0;32m<ipython-input-1-1606e7311f79>\u001b[0m in \u001b[0;36m<cell line: 1>\u001b[0;34m()\u001b[0m\n\u001b[0;32m----> 1\u001b[0;31m \u001b[0mTask\u001b[0m \u001b[0;31m# 02\u001b[0m\u001b[0;34m\u001b[0m\u001b[0;34m\u001b[0m\u001b[0m\n\u001b[0m\u001b[1;32m      2\u001b[0m \u001b[0;34m\u001b[0m\u001b[0m\n\u001b[1;32m      3\u001b[0m \u001b[0;31m# Assuming 'answer' contains the number you are hiding and 'guess' contains the user's input\u001b[0m\u001b[0;34m\u001b[0m\u001b[0;34m\u001b[0m\u001b[0m\n\u001b[1;32m      4\u001b[0m \u001b[0;34m\u001b[0m\u001b[0m\n\u001b[1;32m      5\u001b[0m \u001b[0manswer\u001b[0m \u001b[0;34m=\u001b[0m \u001b[0;36m42\u001b[0m  \u001b[0;31m# You can replace this with any number you want to hide\u001b[0m\u001b[0;34m\u001b[0m\u001b[0;34m\u001b[0m\u001b[0m\n",
            "\u001b[0;31mNameError\u001b[0m: name 'Task' is not defined"
          ]
        }
      ]
    },
    {
      "cell_type": "code",
      "source": [
        "# Task # 03\n",
        "\n",
        "def calculate_tax(state, amount):\n",
        "    # Dictionary to store the tax rates for each state\n",
        "    tax_rates = {\n",
        "        'CA': 0.075,\n",
        "        'MN': 0.095,\n",
        "        'NY': 0.089\n",
        "    }\n",
        "\n",
        "    # Check if the provided state exists in the tax_rates dictionary\n",
        "    if state in tax_rates:\n",
        "        tax_rate = tax_rates[state]\n",
        "        tax_amount = amount * tax_rate\n",
        "        total_amount = amount + tax_amount\n",
        "        return total_amount\n",
        "    else:\n",
        "        raise ValueError(\"Invalid state. Tax rate for the provided state is not available.\")\n",
        "\n",
        "# Example usage:\n",
        "state = input(\"Enter your state (CA, MN, or NY): \")\n",
        "amount = float(input(\"Enter the purchase amount: \"))\n",
        "\n",
        "try:\n",
        "    total_amount_with_tax = calculate_tax(state, amount)\n",
        "    print(f\"Total amount with tax: ${total_amount_with_tax:.2f}\")\n",
        "except ValueError as e:\n",
        "    print(str(e))\n",
        "\n",
        "\n"
      ],
      "metadata": {
        "id": "AQdQQxBQl6nv"
      },
      "execution_count": null,
      "outputs": []
    },
    {
      "cell_type": "code",
      "source": [
        "# Task # 04\n",
        "\n",
        "sentence = [\"the\", \"quick\", \"brown\", \"fox\", \"jumped\", \"over\", \"the\", \"lazy\", \"dog\"]\n",
        "\n",
        "# Using a for loop to print each element of the list on its own line\n",
        "for word in sentence:\n",
        "    print(word)\n",
        "\n"
      ],
      "metadata": {
        "id": "P_dfrkmwmBkq"
      },
      "execution_count": null,
      "outputs": []
    },
    {
      "cell_type": "code",
      "source": [
        "# Task # 05\n",
        "\n",
        "# Using a for loop to print multiples of 5 less than or equal to 30\n",
        "for number in range(5, 31, 5):\n",
        "    print(number)\n",
        "\n",
        "\n"
      ],
      "metadata": {
        "id": "nnSYv3SvmFil"
      },
      "execution_count": null,
      "outputs": []
    },
    {
      "cell_type": "code",
      "source": [
        "# Task # 06\n",
        "\n",
        "names = [\"Rick Sanchez\", \"Morty Smith\", \"Summer Smith\", \"Jerry Smith\", \"Beth Smith\"]\n",
        "\n",
        "# Using list comprehension to extract the first names in lowercase\n",
        "first_names = [name.split()[0].lower() for name in names]\n",
        "\n",
        "print(first_names)\n",
        "\n"
      ],
      "metadata": {
        "id": "dDuDJRoQmJy8"
      },
      "execution_count": null,
      "outputs": []
    },
    {
      "cell_type": "code",
      "source": [
        "# Task # 07\n",
        "\n",
        "# Using list comprehension to create a list of the first 20 multiples of 3\n",
        "multiples_3 = [num * 3 for num in range(1, 21)]\n",
        "\n",
        "print(multiples_3)\n",
        "\n",
        "\n"
      ],
      "metadata": {
        "id": "4GXfRiN4mPS1"
      },
      "execution_count": null,
      "outputs": []
    },
    {
      "cell_type": "code",
      "source": [
        "# Task # 08\n",
        "\n",
        "scores = {\n",
        "    \"Rick Sanchez\": 70,\n",
        "    \"Morty Smith\": 35,\n",
        "    \"Summer Smith\": 82,\n",
        "    \"Jerry Smith\": 23,\n",
        "    \"Beth Smith\": 98\n",
        "}\n",
        "\n",
        "# Using list comprehension to filter names of individuals who scored at least 65\n",
        "passed = [name for name, score in scores.items() if score >= 65]\n",
        "\n",
        "print(passed)\n",
        "\n"
      ],
      "metadata": {
        "id": "zP7BEw8imStM"
      },
      "execution_count": null,
      "outputs": []
    },
    {
      "cell_type": "code",
      "source": [
        "# Task # 09\n",
        "\n",
        "cast_names = [\"Barney\", \"Robin\", \"Ted\", \"Lily\", \"Marshall\"]\n",
        "cast_heights = [72, 68, 72, 66, 76]\n",
        "\n",
        "# Using zip() to create the dictionary 'cast'\n",
        "cast = dict(zip(cast_names, cast_heights))\n",
        "\n",
        "print(cast)\n",
        "\n"
      ],
      "metadata": {
        "id": "H4KJZmv-mWVn"
      },
      "execution_count": null,
      "outputs": []
    },
    {
      "cell_type": "code",
      "source": [
        "\n",
        "\n",
        "# Task # 10\n",
        "\n",
        "cast = [\"Barney Stinson\", \"Robin Scherbatsky\", \"Ted Mosby\", \"Lily Aldrin\", \"Marshall Eriksen\"]\n",
        "heights = [72, 68, 72, 66, 76]\n",
        "\n",
        "# Using enumerate() and a for loop to modify the 'cast' list\n",
        "for index, name in enumerate(cast):\n",
        "    height = heights[index]\n",
        "    cast[index] = f\"{name}{height}\"\n",
        "\n",
        "print(cast)\n",
        "\n",
        "\n"
      ],
      "metadata": {
        "id": "s8bZcN5Xmtbp"
      },
      "execution_count": null,
      "outputs": []
    }
  ]
}