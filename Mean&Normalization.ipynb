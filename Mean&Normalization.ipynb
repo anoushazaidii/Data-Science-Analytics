{
  "cells": [
    {
      "cell_type": "markdown",
      "metadata": {
        "id": "view-in-github",
        "colab_type": "text"
      },
      "source": [
        "<a href=\"https://colab.research.google.com/github/anoushazaidii/Data-Science-Analytics/blob/main/Mean%26Normalization.ipynb\" target=\"_parent\"><img src=\"https://colab.research.google.com/assets/colab-badge.svg\" alt=\"Open In Colab\"/></a>"
      ]
    },
    {
      "cell_type": "markdown",
      "metadata": {
        "id": "nwOnnf2MJDDJ"
      },
      "source": [
        "# Mean Normalization\n",
        "\n",
        "In machine learning we use large amounts of data to train our models. Some machine learning algorithms may require that the data is *normalized* in order to work correctly. The idea of normalization, also known as *feature scaling*, is to ensure that all the data is on a similar scale, *i.e.* that all the data takes on a similar range of values. For example, we might have a dataset that has values between 0 and 5,000. By normalizing the data we can make the range of values be between 0 and 1.\n",
        "\n",
        "In this lab, you will be performing a different kind of feature scaling known as *mean normalization*. Mean normalization will scale the data, but instead of making the values be between 0 and 1, it will distribute the values evenly in some small interval around zero. For example, if we have a dataset that has values between 0 and 5,000, after mean normalization the range of values will be distributed in some small range around 0, for example between -3 to 3. Because the range of values are distributed evenly around zero, this guarantees that the average (mean) of all elements will be zero. Therefore, when you perform *mean normalization* your data will not only be scaled but it will also have an average of zero.\n",
        "\n",
        "# To Do:\n",
        "\n",
        "You will start by importing NumPy and creating a rank 2 ndarray of random integers between 0 and 5,000 (inclusive) with 1000 rows and 20 columns. This array will simulate a dataset with a wide range of values. Fill in the code below"
      ]
    },
    {
      "cell_type": "code",
      "execution_count": null,
      "metadata": {
        "colab": {
          "base_uri": "https://localhost:8080/"
        },
        "id": "yJ_c3rpUJDDR",
        "outputId": "86e33a7f-599e-42b8-dad9-2f679aabc25b"
      },
      "outputs": [
        {
          "output_type": "stream",
          "name": "stdout",
          "text": [
            "(1000, 20)\n"
          ]
        }
      ],
      "source": [
        "# import NumPy into Python\n",
        "import numpy as np\n",
        "\n",
        "\n",
        "# Create a 1000 x 20 ndarray with random integers in the half-open interval [0, 5001).\n",
        "X = np.random.randint(1,5001, size=(1000,20))\n",
        "\n",
        "# print the shape of X\n",
        "print(X.shape)\n"
      ]
    },
    {
      "cell_type": "markdown",
      "metadata": {
        "id": "br0G9aZ_JDDV"
      },
      "source": [
        "Now that you created the array we will mean normalize it. We will perform mean normalization using the following equation:\n",
        "\n",
        "$\\mbox{Norm_Col}_i = \\frac{\\mbox{Col}_i - \\mu_i}{\\sigma_i}$\n",
        "\n",
        "where $\\mbox{Col}_i$ is the $i$th column of $X$, $\\mu_i$ is average of the values in the $i$th column of $X$, and $\\sigma_i$ is the standard deviation of the values in the $i$th column of $X$. In other words, mean normalization is performed by subtracting from each column of $X$ the average of its values, and then by dividing by the standard deviation of its values. In the space below, you will first calculate the average and standard deviation of each column of $X$."
      ]
    },
    {
      "cell_type": "code",
      "execution_count": null,
      "metadata": {
        "id": "p5dFy-2AJDDW"
      },
      "outputs": [],
      "source": [
        "# Average of the values in each column of X\n",
        "ave_cols = np.mean(X, axis=0)\n",
        "\n",
        "# Standard Deviation of the values in each column of X\n",
        "std_cols = np.std(X, axis=0)"
      ]
    },
    {
      "cell_type": "markdown",
      "metadata": {
        "id": "fBrmtJdzJDDX"
      },
      "source": [
        "If you have done the above calculations correctly, then `ave_cols` and `std_cols`, should both be vectors with shape `(20,)` since $X$ has 20 columns. You can verify this by filling the code below:"
      ]
    },
    {
      "cell_type": "code",
      "execution_count": null,
      "metadata": {
        "colab": {
          "base_uri": "https://localhost:8080/"
        },
        "id": "91sjYQ-VJDDY",
        "outputId": "0f61931f-8dc8-4e53-9a72-93d39d74d134"
      },
      "outputs": [
        {
          "output_type": "stream",
          "name": "stdout",
          "text": [
            "(20,)\n",
            "(20,)\n"
          ]
        }
      ],
      "source": [
        "# Print the shape of ave_cols\n",
        "print(ave_cols.shape)\n",
        "\n",
        "\n",
        "# Print the shape of std_cols\n",
        "print(std_cols.shape)\n",
        "\n"
      ]
    },
    {
      "cell_type": "markdown",
      "metadata": {
        "id": "dlYePYKiJDDa"
      },
      "source": [
        "You can now take advantage of Broadcasting to calculate the mean normalized version of $X$ in just one line of code using the equation above. Fill in the code below"
      ]
    },
    {
      "cell_type": "code",
      "execution_count": null,
      "metadata": {
        "id": "a57WRU4VJDDc"
      },
      "outputs": [],
      "source": [
        "# Mean normalize X\n",
        "X_norm = (X-ave_cols)/std_cols"
      ]
    },
    {
      "cell_type": "markdown",
      "metadata": {
        "id": "9LHBBdB5JDDe"
      },
      "source": [
        "If you have performed the mean normalization correctly, then the average of all the elements in $X_{\\tiny{\\mbox{norm}}}$ should be close to zero, and they should be evenly distributed in some small interval around zero. You can verify this by filing the code below:"
      ]
    },
    {
      "cell_type": "code",
      "execution_count": null,
      "metadata": {
        "colab": {
          "base_uri": "https://localhost:8080/"
        },
        "id": "fuifeVf2JDDf",
        "outputId": "1f2de516-c148-432c-f884-ee982a64db75"
      },
      "outputs": [
        {
          "output_type": "stream",
          "name": "stdout",
          "text": [
            "1.0658141036401503e-17\n",
            "-1.7340883993598109\n",
            "1.735703135771471\n"
          ]
        }
      ],
      "source": [
        "# Print the average of all the values of X_norm\n",
        "print(np.mean(X_norm))\n",
        "\n",
        "# Print the average of the minimum value in each column of X_norm\n",
        "print(np.mean(np.min(X_norm, axis=0)))\n",
        "\n",
        "\n",
        "# Print the average of the maximum value in each column of X_norm\n",
        "print(np.mean(np.max(X_norm, axis=0)))\n",
        "\n"
      ]
    },
    {
      "cell_type": "markdown",
      "metadata": {
        "id": "6ug7xA31JDDg"
      },
      "source": [
        "You should note that since $X$ was created using random integers, the above values will vary.\n",
        "\n",
        "# Data Separation\n",
        "\n",
        "After the data has been mean normalized, it is customary in machine learnig to split our dataset into three sets:\n",
        "\n",
        "1. A Training Set\n",
        "2. A Cross Validation Set\n",
        "3. A Test Set\n",
        "\n",
        "The dataset is usually divided such that the Training Set contains 60% of the data, the Cross Validation Set contains 20% of the data, and the Test Set contains 20% of the data.\n",
        "\n",
        "In this part of the lab you will separate `X_norm` into a Training Set, Cross Validation Set, and a Test Set. Each data set will contain rows of `X_norm` chosen at random, making sure that we don't pick the same row twice. This will guarantee that all the rows of `X_norm` are chosen and randomly distributed among the three new sets.\n",
        "\n",
        "You will start by creating a rank 1 ndarray that contains a random permutation of the row indices of `X_norm`. You can do this by using the `np.random.permutation()` function. The `np.random.permutation(N)` function creates a random permutation of integers from 0 to `N - 1`. Let's see an example:"
      ]
    },
    {
      "cell_type": "code",
      "execution_count": null,
      "metadata": {
        "colab": {
          "base_uri": "https://localhost:8080/"
        },
        "id": "XUi1erVlJDDh",
        "outputId": "7d9fdd2c-2c6d-4df4-d8e0-6a1d05f35725"
      },
      "outputs": [
        {
          "output_type": "execute_result",
          "data": {
            "text/plain": [
              "array([3, 1, 4, 2, 0])"
            ]
          },
          "metadata": {},
          "execution_count": 9
        }
      ],
      "source": [
        "# We create a random permutation of integers 0 to 4\n",
        "np.random.permutation(5)"
      ]
    },
    {
      "cell_type": "markdown",
      "metadata": {
        "id": "SE2qMDkRJDDi"
      },
      "source": [
        "# To Do\n",
        "\n",
        "In the space below create a rank 1 ndarray that contains a random permutation of the row indices of `X_norm`. You can do this in one line of code by extracting the number of rows of `X_norm` using the `shape` attribute and then passing it to the  `np.random.permutation()` function. Remember the `shape` attribute returns a tuple with two numbers in the form `(rows,columns)`."
      ]
    },
    {
      "cell_type": "code",
      "execution_count": null,
      "metadata": {
        "colab": {
          "base_uri": "https://localhost:8080/"
        },
        "id": "AJnBdOiWJDDi",
        "outputId": "75142579-d3f6-4f98-b719-d883a491f655"
      },
      "outputs": [
        {
          "output_type": "stream",
          "name": "stdout",
          "text": [
            "(1000,)\n"
          ]
        }
      ],
      "source": [
        "# Create a rank 1 ndarray that contains a random permutation of the row indices of `X_norm`\n",
        "numOfRows = X_norm.shape[0]\n",
        "row_indices = np.random.permutation(numOfRows)\n",
        "print(row_indices.shape)"
      ]
    },
    {
      "cell_type": "markdown",
      "metadata": {
        "id": "m5REBqhxJDDj"
      },
      "source": [
        "Now you can create the three datasets using the `row_indices` ndarray to select the rows that will go into each dataset. Rememeber that the Training Set contains 60% of the data, the Cross Validation Set contains 20% of the data, and the Test Set contains 20% of the data. Each set requires just one line of code to create. Fill in the code below"
      ]
    },
    {
      "cell_type": "code",
      "execution_count": null,
      "metadata": {
        "id": "1Q5IZHjPJDDk"
      },
      "outputs": [],
      "source": [
        "# Make any necessary calculations.\n",
        "# You can save your calculations into variables to use later.\n",
        "\n",
        "total_rows = X_norm.shape[0]\n",
        "\n",
        "training_size = int(0.6 * total_rows)\n",
        "cv_size = int(0.2 * total_rows)\n",
        "test_size = int(0.2 * total_rows)\n",
        "\n",
        "# Create a Training Set\n",
        "X_train =  row_indices[:training_size]\n",
        "training_set = X_norm[X_train]\n",
        "\n",
        "# Create a Cross Validation Set\n",
        "X_crossVal =  row_indices[training_size : training_size + cv_size]\n",
        "cv_set = X_norm[X_crossVal]\n",
        "\n",
        "# Create a Test Set\n",
        "X_test = row_indices[training_size + cv_size :]\n",
        "test_set = X_norm[X_test]"
      ]
    },
    {
      "cell_type": "markdown",
      "metadata": {
        "id": "vHlSuCc9JDDk"
      },
      "source": [
        "If you performed the above calculations correctly, then `X_tain` should have 600 rows and 20 columns, `X_crossVal` should have 200 rows and 20 columns, and `X_test` should have 200 rows and 20 columns. You can verify this by filling the code below:"
      ]
    },
    {
      "cell_type": "code",
      "execution_count": null,
      "metadata": {
        "colab": {
          "base_uri": "https://localhost:8080/"
        },
        "id": "j6WUClYPJDDl",
        "outputId": "6af35283-3dd1-46dc-f974-b7e56d039efc"
      },
      "outputs": [
        {
          "output_type": "stream",
          "name": "stdout",
          "text": [
            "(600, 20)\n",
            "(200, 20)\n",
            "(200, 20)\n"
          ]
        }
      ],
      "source": [
        "# Print the shape of X_train\n",
        "print(training_set.shape)\n",
        "\n",
        "# Print the shape of X_crossVal\n",
        "print(cv_set.shape)\n",
        "\n",
        "# Print the shape of X_test\n",
        "print(test_set.shape)\n",
        "\n"
      ]
    },
    {
      "cell_type": "code",
      "execution_count": null,
      "metadata": {
        "id": "O5vwi3fYJDDq"
      },
      "outputs": [],
      "source": []
    }
  ],
  "metadata": {
    "kernelspec": {
      "display_name": "Python 3",
      "language": "python",
      "name": "python3"
    },
    "language_info": {
      "codemirror_mode": {
        "name": "ipython",
        "version": 3
      },
      "file_extension": ".py",
      "mimetype": "text/x-python",
      "name": "python",
      "nbconvert_exporter": "python",
      "pygments_lexer": "ipython3",
      "version": "3.6.4"
    },
    "colab": {
      "provenance": [],
      "include_colab_link": true
    }
  },
  "nbformat": 4,
  "nbformat_minor": 0
}