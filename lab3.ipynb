{
  "nbformat": 4,
  "nbformat_minor": 0,
  "metadata": {
    "colab": {
      "provenance": [],
      "authorship_tag": "ABX9TyNm4+degFiEENLH4hBpnbAK",
      "include_colab_link": true
    },
    "kernelspec": {
      "name": "python3",
      "display_name": "Python 3"
    },
    "language_info": {
      "name": "python"
    }
  },
  "cells": [
    {
      "cell_type": "markdown",
      "metadata": {
        "id": "view-in-github",
        "colab_type": "text"
      },
      "source": [
        "<a href=\"https://colab.research.google.com/github/anoushazaidii/Data-Science-Analytics/blob/main/lab3.ipynb\" target=\"_parent\"><img src=\"https://colab.research.google.com/assets/colab-badge.svg\" alt=\"Open In Colab\"/></a>"
      ]
    },
    {
      "cell_type": "code",
      "execution_count": null,
      "metadata": {
        "id": "TLNznZCOnRfc"
      },
      "outputs": [],
      "source": [
        "# Task#01\n",
        "\n",
        "# Population Density Function\n",
        "\n",
        "def population_density(population, land_area):\n",
        "    return population / land_area\n",
        "\n",
        "test1 = population_density(10, 1)\n",
        "expected_result1 = 10\n",
        "print(\"expected result: {}, actual result: {}\".format(expected_result1, test1))\n",
        "\n",
        "test2 = population_density(864816, 121.4)\n",
        "expected_result2 = 7123.6902801\n",
        "print(\"expected result: {}..., actual result: {}\".format(expected_result2, test2))\n",
        "\n"
      ]
    },
    {
      "cell_type": "code",
      "source": [
        "\n",
        "\n",
        "# Task#02\n",
        "\n",
        "# readable_timedelta\n",
        "\n",
        "def readable_timedelta(days):\n",
        "\n",
        "    week = int(days / 7)\n",
        "    day = int(days % 7)\n",
        "    return \"{} week(s) and {} day(s)\".format(week, day)\n",
        "\n",
        "print(readable_timedelta(10))\n",
        "\n",
        "\n",
        "\n"
      ],
      "metadata": {
        "id": "IqlHZzhwnZs4"
      },
      "execution_count": null,
      "outputs": []
    },
    {
      "cell_type": "code",
      "source": [
        "\n",
        "\n",
        "# Task#03\n",
        "\n",
        "# Lambda with Map\n",
        "\n",
        "numbers = [\n",
        "              [34, 63, 88, 71, 29],\n",
        "              [90, 78, 51, 27, 45],\n",
        "              [63, 37, 85, 46, 22],\n",
        "              [51, 22, 34, 11, 18]\n",
        "           ]\n",
        "\n",
        "def mean(num_list):\n",
        "    return sum(num_list) / len(num_list)\n",
        "\n",
        "averages = list(map(mean, numbers))\n",
        "print(averages)\n",
        "\n"
      ],
      "metadata": {
        "id": "UpsFD4P7nlBD"
      },
      "execution_count": null,
      "outputs": []
    },
    {
      "cell_type": "code",
      "source": [
        "\n",
        "\n",
        "# Task#04\n",
        "\n",
        "# Lambda with Filter\n",
        "\n",
        "cities = [\"New York City\", \"Los Angeles\", \"Chicago\", \"Mountain View\", \"Denver\", \"Boston\"]\n",
        "\n",
        "short_cities = list(filter(lambda city: len(city) < 10, cities))\n",
        "\n",
        "print(short_cities)\n",
        "\n"
      ],
      "metadata": {
        "id": "nEb5B-sdnoJ6"
      },
      "execution_count": null,
      "outputs": []
    },
    {
      "cell_type": "code",
      "source": [
        "\n",
        "\n",
        "# Task#05\n",
        "\n",
        "# Generate Messages\n",
        "\n",
        "names = input('Enter names seperated by commas: ').title().split(',')\n",
        "assignments = input('Enter assignment counts seperated by commas: ').split(',')\n",
        "grades = input('Enter grades separated by commas: ').split(',')\n",
        "\n",
        "message = \"Hi {},\\n\\nThis is a reminder that you have {} assignments left to \\\n",
        "submit before you can graduate. You're current grade is {} and can increase \\\n",
        "to {} if you submit all assignments before the due date.\\n\\n\"\n",
        "\n",
        "for name, assignment, grade in zip(names, assignments, grades):\n",
        "    print(message.format(name, assignment, grade, int(grade) + int(assignment) * 2))\n",
        "\n",
        "\n"
      ],
      "metadata": {
        "id": "9vWZ4RbRn2w0"
      },
      "execution_count": null,
      "outputs": []
    },
    {
      "cell_type": "code",
      "source": [
        "\n",
        "\n",
        "# Task#06\n",
        "\n",
        "# Reading and Writing Files\n",
        "\n",
        "with open(\"/content/drive/MyDrive/camelot.txt\") as song:\n",
        "     print(song.read(2))\n",
        "     print(song.read(8))\n",
        "     print(song.read())\n",
        "\n",
        "camelot_lines = []\n",
        "with open(\"/content/drive/MyDrive/camelot.txt\") as f:\n",
        "    for line in f:\n",
        "        camelot_lines.append(line.strip())\n",
        "\n",
        "print(camelot_lines)\n",
        "\n",
        "\n"
      ],
      "metadata": {
        "id": "yrs41kTWoU_R"
      },
      "execution_count": null,
      "outputs": []
    },
    {
      "cell_type": "code",
      "source": [
        "\n",
        "\n",
        "# Task#07\n",
        "\n",
        "# Flying Circus Cast List\n",
        "\n",
        "def create_cast_list(filename):\n",
        "    cast_list = []\n",
        "    # use with to open the file filename\n",
        "    with open(\"/content/drive/MyDrive/flying_circus_cast.txt\") as f:\n",
        "        # use the for loop syntax to process each line\n",
        "        # and add the actor name to cast_list\n",
        "        for line in f:\n",
        "            line_data = line.split(',')\n",
        "            cast_list.append(line_data[0])\n",
        "    return cast_list\n",
        "\n",
        "\n",
        "print(create_cast_list('flying_circus_cast.txt')"
      ],
      "metadata": {
        "id": "_PbJihtAoWzH"
      },
      "execution_count": null,
      "outputs": []
    }
  ]
}