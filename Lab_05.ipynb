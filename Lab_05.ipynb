{
  "nbformat": 4,
  "nbformat_minor": 0,
  "metadata": {
    "colab": {
      "provenance": [],
      "include_colab_link": true
    },
    "kernelspec": {
      "name": "python3",
      "display_name": "Python 3"
    },
    "language_info": {
      "name": "python"
    }
  },
  "cells": [
    {
      "cell_type": "markdown",
      "metadata": {
        "id": "view-in-github",
        "colab_type": "text"
      },
      "source": [
        "<a href=\"https://colab.research.google.com/github/anoushazaidii/Data-Science-Analytics/blob/main/Lab_05.ipynb\" target=\"_parent\"><img src=\"https://colab.research.google.com/assets/colab-badge.svg\" alt=\"Open In Colab\"/></a>"
      ]
    },
    {
      "cell_type": "code",
      "execution_count": null,
      "metadata": {
        "colab": {
          "base_uri": "https://localhost:8080/"
        },
        "id": "x32iLuSfeLLX",
        "outputId": "d72eaa16-9eeb-4b7b-943f-3e77d71caae0"
      },
      "outputs": [
        {
          "output_type": "stream",
          "name": "stdout",
          "text": [
            "Series created by taking name of planets as index and distance as data\n",
            "Earth       149.6\n",
            "Saturn     1433.5\n",
            "Mars        227.9\n",
            "Venus       108.2\n",
            "Jupiter     778.6\n",
            "dtype: float64\n",
            "Divided by speed of light\n",
            "Earth       8.311111\n",
            "Saturn     79.638889\n",
            "Mars       12.661111\n",
            "Venus       6.011111\n",
            "Jupiter    43.255556\n",
            "dtype: float64\n",
            "only those planets for which sunlight takes less han 40 minutes\n",
            "Earth     8.311111\n",
            "Mars     12.661111\n",
            "Venus     6.011111\n",
            "dtype: float64\n"
          ]
        }
      ],
      "source": [
        "#TASK1\n",
        "\n",
        "import pandas as pd\n",
        "\n",
        "distance_from_sun = [149.6, 1433.5, 227.9, 108.2, 778.6]\n",
        "planets = ['Earth','Saturn', 'Mars','Venus', 'Jupiter']\n",
        "\n",
        "print(\"Series created by taking name of planets as index and distance as data\")\n",
        "dist_planets =pd.Series(data=distance_from_sun,index=planets)\n",
        "print(dist_planets)\n",
        "\n",
        "print(\"Divided by speed of light\")\n",
        "speed_of_light = 18\n",
        "time_light = dist_planets / speed_of_light\n",
        "print(time_light)\n",
        "\n",
        "print(\"only those planets for which sunlight takes less han 40 minutes\")\n",
        "close_planets =time_light[time_light<40]\n",
        "print(close_planets)"
      ]
    },
    {
      "cell_type": "code",
      "source": [
        "import pandas as pd\n",
        "import numpy as np\n",
        "\n",
        "books = pd.Series(data = ['Great Expectations', 'Of Mice and Men', 'Romeo and Juliet', 'The Time Machine', 'Alice in Wonderland' ])\n",
        "authors = pd.Series(data = ['Charles Dickens', 'John Steinbeck', 'William Shakespeare', ' H. G. Wells', 'Lewis Carroll' ])\n",
        "\n",
        "user_1 = pd.Series(data = [3.2, np.nan ,2.5])\n",
        "user_2 = pd.Series(data = [5., 1.3, 4.0, 3.8])\n",
        "user_3 = pd.Series(data = [2.0, 2.3, np.nan, 4])\n",
        "user_4 = pd.Series(data = [4, 3.5, 4, 5, 4.2])\n",
        "\n",
        "dat ={\n",
        "'Author': authors,\n",
        "    'Book Title': books,\n",
        "    'User 1': user_1,\n",
        "    'User 2': user_2,\n",
        "    'User 3': user_3,\n",
        "    'User 4': user_4\n",
        "}\n",
        "\n",
        "book_ratings =pd.DataFrame(dat)\n",
        "print(book_ratings)\n",
        "\n",
        "book_ratings.fillna(book_ratings.mean(),inplace=True)\n",
        "print(book_ratings.round(1))\n",
        "\n",
        "best_rated=book_ratings[(book_ratings==5).any(axis = 1)]['Book Title'].values\n",
        "print(best_rated)"
      ],
      "metadata": {
        "colab": {
          "base_uri": "https://localhost:8080/"
        },
        "id": "PpAC3oQJhXWv",
        "outputId": "143874ce-0630-4fe0-f22f-938e8067fe44"
      },
      "execution_count": null,
      "outputs": [
        {
          "output_type": "stream",
          "name": "stdout",
          "text": [
            "                Author           Book Title  User 1  User 2  User 3  User 4\n",
            "0      Charles Dickens   Great Expectations     3.2     5.0     2.0     4.0\n",
            "1       John Steinbeck      Of Mice and Men     NaN     1.3     2.3     3.5\n",
            "2  William Shakespeare     Romeo and Juliet     2.5     4.0     NaN     4.0\n",
            "3          H. G. Wells     The Time Machine     NaN     3.8     4.0     5.0\n",
            "4        Lewis Carroll  Alice in Wonderland     NaN     NaN     NaN     4.2\n",
            "                Author           Book Title  User 1  User 2  User 3  User 4\n",
            "0      Charles Dickens   Great Expectations     3.2     5.0     2.0     4.0\n",
            "1       John Steinbeck      Of Mice and Men     2.8     1.3     2.3     3.5\n",
            "2  William Shakespeare     Romeo and Juliet     2.5     4.0     2.8     4.0\n",
            "3          H. G. Wells     The Time Machine     2.8     3.8     4.0     5.0\n",
            "4        Lewis Carroll  Alice in Wonderland     2.8     3.5     2.8     4.2\n",
            "['Great Expectations' 'The Time Machine']\n"
          ]
        },
        {
          "output_type": "stream",
          "name": "stderr",
          "text": [
            "<ipython-input-4-13d15708bc43>:24: FutureWarning: The default value of numeric_only in DataFrame.mean is deprecated. In a future version, it will default to False. In addition, specifying 'numeric_only=None' is deprecated. Select only valid columns or specify the value of numeric_only to silence this warning.\n",
            "  book_ratings.fillna(book_ratings.mean(),inplace=True)\n"
          ]
        }
      ]
    }
  ]
}