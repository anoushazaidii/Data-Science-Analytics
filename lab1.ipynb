{
  "nbformat": 4,
  "nbformat_minor": 0,
  "metadata": {
    "colab": {
      "provenance": [],
      "authorship_tag": "ABX9TyP+xJdMwMuGojLUJY+9VF2f",
      "include_colab_link": true
    },
    "kernelspec": {
      "name": "python3",
      "display_name": "Python 3"
    },
    "language_info": {
      "name": "python"
    }
  },
  "cells": [
    {
      "cell_type": "markdown",
      "metadata": {
        "id": "view-in-github",
        "colab_type": "text"
      },
      "source": [
        "<a href=\"https://colab.research.google.com/github/anoushazaidii/Data-Science-Analytics/blob/main/lab1.ipynb\" target=\"_parent\"><img src=\"https://colab.research.google.com/assets/colab-badge.svg\" alt=\"Open In Colab\"/></a>"
      ]
    },
    {
      "cell_type": "code",
      "execution_count": null,
      "metadata": {
        "id": "8cWYGP1AW50q"
      },
      "outputs": [],
      "source": []
    },
    {
      "cell_type": "code",
      "source": [
        "# python program to product all the items in list\n",
        "product = [1,2,3]\n",
        "prod1=1\n",
        "for i in product:\n",
        "    prod1= i*prod1\n",
        "print(prod1)"
      ],
      "metadata": {
        "colab": {
          "base_uri": "https://localhost:8080/"
        },
        "id": "H_R8jhAJYBbw",
        "outputId": "f0414bdf-c260-4e21-8ac8-79dcdd0e18d1"
      },
      "execution_count": 1,
      "outputs": [
        {
          "output_type": "stream",
          "name": "stdout",
          "text": [
            "6\n"
          ]
        }
      ]
    },
    {
      "cell_type": "code",
      "source": [
        "# python program to find the largest element from list\n",
        "list = [10,91,8,11,6]\n",
        "largest = list[0]\n",
        "for i in list:\n",
        "    if i > largest:\n",
        "        largest=i\n",
        "print(largest)\n",
        ""
      ],
      "metadata": {
        "id": "-X2MPlNwYLQj"
      },
      "execution_count": null,
      "outputs": []
    },
    {
      "cell_type": "code",
      "source": [],
      "metadata": {
        "id": "NRRxEzjTYS4f"
      },
      "execution_count": null,
      "outputs": []
    },
    {
      "cell_type": "code",
      "source": [
        "# python program to print first item of tuple\n",
        "tuple = (1,3,5)\n",
        "print(tuple[0])\n"
      ],
      "metadata": {
        "id": "8NsP1tcDYOd1"
      },
      "execution_count": null,
      "outputs": []
    },
    {
      "cell_type": "code",
      "source": [
        "# python program to sort dictionary items in ascending order\n",
        "import operator\n",
        "dic = {1:20,3:10,2:4,5:12,4:2}\n",
        "print(dic)\n",
        "sorted_dic =sorted(dic.items(),key=operator.itemgetter(1))\n",
        "print(sorted_dic)\n",
        "sorted_d = dict( sorted(dic.items(), key=operator.itemgetter(1),reverse=True))\n",
        "print(sorted_d)"
      ],
      "metadata": {
        "colab": {
          "base_uri": "https://localhost:8080/"
        },
        "id": "2SJoF99VYyPS",
        "outputId": "12eee0df-b786-4ce2-968f-2b88809f4726"
      },
      "execution_count": 2,
      "outputs": [
        {
          "output_type": "stream",
          "name": "stdout",
          "text": [
            "{1: 20, 3: 10, 2: 4, 5: 12, 4: 2}\n",
            "[(4, 2), (2, 4), (3, 10), (5, 12), (1, 20)]\n",
            "{1: 20, 5: 12, 3: 10, 2: 4, 4: 2}\n"
          ]
        }
      ]
    }
  ]
}