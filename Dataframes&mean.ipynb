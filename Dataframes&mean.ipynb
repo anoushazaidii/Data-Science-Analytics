{
  "nbformat": 4,
  "nbformat_minor": 0,
  "metadata": {
    "colab": {
      "provenance": [],
      "authorship_tag": "ABX9TyMKakK/EGW36o/QeXSkXQlO",
      "include_colab_link": true
    },
    "kernelspec": {
      "name": "python3",
      "display_name": "Python 3"
    },
    "language_info": {
      "name": "python"
    }
  },
  "cells": [
    {
      "cell_type": "markdown",
      "metadata": {
        "id": "view-in-github",
        "colab_type": "text"
      },
      "source": [
        "<a href=\"https://colab.research.google.com/github/anoushazaidii/Data-Science-Analytics/blob/main/Dataframes%26mean.ipynb\" target=\"_parent\"><img src=\"https://colab.research.google.com/assets/colab-badge.svg\" alt=\"Open In Colab\"/></a>"
      ]
    },
    {
      "cell_type": "code",
      "execution_count": null,
      "metadata": {
        "colab": {
          "base_uri": "https://localhost:8080/"
        },
        "id": "DpbUkQJcK0bM",
        "outputId": "f198640f-ab2f-43c9-b1a8-85704a55ae1e"
      },
      "outputs": [
        {
          "output_type": "stream",
          "name": "stdout",
          "text": [
            "DataFrame 1:\n",
            "     X      Y\n",
            "0   10   8.04\n",
            "1    8   6.95\n",
            "2   13   7.58\n",
            "3    9   8.81\n",
            "4   11   8.33\n",
            "5   14   9.96\n",
            "6    6   7.24\n",
            "7    4   4.26\n",
            "8   12  10.84\n",
            "9    7   4.82\n",
            "10   5   5.68\n",
            "\n",
            "DataFrame 2:\n",
            "     X     Y\n",
            "0   10  9.14\n",
            "1    8  8.14\n",
            "2   13  8.74\n",
            "3    9  8.77\n",
            "4   11  9.26\n",
            "5   14  8.10\n",
            "6    6  6.13\n",
            "7    4  3.10\n",
            "8   12  9.13\n",
            "9    7  7.26\n",
            "10   5  4.74\n",
            "\n",
            "DataFrame 3:\n",
            "     X      Y\n",
            "0   10   7.46\n",
            "1    8   6.77\n",
            "2   13  12.74\n",
            "3    9   7.11\n",
            "4   11   7.81\n",
            "5   14   8.84\n",
            "6    6   6.08\n",
            "7    4   5.39\n",
            "8   12   8.15\n",
            "9    7   6.42\n",
            "10   5   5.73\n",
            "\n",
            "DataFrame 4:\n",
            "     X      Y\n",
            "0    8   6.58\n",
            "1    8   5.76\n",
            "2    8   7.71\n",
            "3    8   8.84\n",
            "4    8   8.47\n",
            "5    8   7.04\n",
            "6    8   5.25\n",
            "7   19  12.50\n",
            "8    8   5.56\n",
            "9    8   7.91\n",
            "10   8   6.89\n",
            "standard deviation1: X    3.316625\n",
            "Y    2.031568\n",
            "dtype: float64\n",
            "standard deviation2: X    3.316625\n",
            "Y    2.031657\n",
            "dtype: float64\n",
            "standard deviation3: X    3.316625\n",
            "Y    2.030424\n",
            "dtype: float64\n",
            "standard deviation4: X    3.316625\n",
            "Y    2.030579\n",
            "dtype: float64\n",
            "mean1: X    9.000000\n",
            "Y    7.500909\n",
            "dtype: float64\n",
            "mean2: X    9.000000\n",
            "Y    7.500909\n",
            "dtype: float64\n",
            "mean3: X    9.0\n",
            "Y    7.5\n",
            "dtype: float64\n",
            "mean4: X    9.000000\n",
            "Y    7.500909\n",
            "dtype: float64\n"
          ]
        }
      ],
      "source": [
        "import pandas as pd\n",
        "data = { 'X': [10, 8, 13, 9, 11, 14, 6, 4, 12, 7, 5], 'Y': [8.04, 6.95, 7.58, 8.81, 8.33, 9.96, 7.24, 4.26, 10.84, 4.82, 5.68] }\n",
        "df1 = pd.DataFrame(data)\n",
        "data = { 'X': [10, 8, 13, 9, 11, 14, 6, 4, 12, 7, 5], 'Y': [9.14, 8.14, 8.74, 8.77, 9.26, 8.1, 6.13, 3.1, 9.13, 7.26, 4.74] }\n",
        "df2 = pd.DataFrame(data)\n",
        "data = { 'X': [10, 8, 13, 9, 11, 14, 6, 4, 12, 7, 5], 'Y': [7.46, 6.77, 12.74, 7.11, 7.81, 8.84, 6.08, 5.39, 8.15, 6.42, 5.73] }\n",
        "df3 = pd.DataFrame(data)\n",
        "data = { 'X': [8, 8, 8, 8, 8, 8, 8, 19, 8, 8, 8], 'Y': [6.58, 5.76, 7.71, 8.84, 8.47, 7.04, 5.25, 12.5, 5.56, 7.91, 6.89] }\n",
        "df4 = pd.DataFrame(data)\n",
        "print(\"DataFrame 1:\")\n",
        "print(df1)\n",
        "print(\"\\nDataFrame 2:\")\n",
        "print(df2)\n",
        "print(\"\\nDataFrame 3:\")\n",
        "print(df3)\n",
        "print(\"\\nDataFrame 4:\")\n",
        "print(df4)\n",
        "print(\"standard deviation1:\",df1.std())\n",
        "print(\"standard deviation2:\",df2.std())\n",
        "print(\"standard deviation3:\",df3.std())\n",
        "print(\"standard deviation4:\",df4.std())\n",
        "print(\"mean1:\",df1.mean())\n",
        "print(\"mean2:\",df2.mean())\n",
        "print(\"mean3:\",df3.mean())\n",
        "print(\"mean4:\",df4.mean())\n",
        "df1.dropna()\n",
        "df2.dropna()\n",
        "df3.dropna()\n",
        "df4.dropna()"
      ]
    }
  ]
}